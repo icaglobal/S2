{
 "cells": [
  {
   "cell_type": "code",
   "execution_count": 1,
   "id": "b0bf9ff7",
   "metadata": {},
   "outputs": [
    {
     "name": "stdout",
     "output_type": "stream",
     "text": [
      "Collecting tensorflow\n",
      "  Downloading tensorflow-2.6.2-cp36-cp36m-manylinux2010_x86_64.whl (458.3 MB)\n",
      "     |████████████████████████████████| 458.3 MB 11 kB/s               \n",
      "\u001b[?25hRequirement already satisfied: six~=1.15.0 in /home/ec2-user/anaconda3/envs/pytorch_latest_p36/lib/python3.6/site-packages (from tensorflow) (1.15.0)\n",
      "Collecting flatbuffers~=1.12.0\n",
      "  Downloading flatbuffers-1.12-py2.py3-none-any.whl (15 kB)\n",
      "Requirement already satisfied: google-pasta~=0.2 in /home/ec2-user/anaconda3/envs/pytorch_latest_p36/lib/python3.6/site-packages (from tensorflow) (0.2.0)\n",
      "Collecting tensorflow-estimator<2.7,>=2.6.0\n",
      "  Downloading tensorflow_estimator-2.6.0-py2.py3-none-any.whl (462 kB)\n",
      "     |████████████████████████████████| 462 kB 53.9 MB/s            \n",
      "\u001b[?25hCollecting opt-einsum~=3.3.0\n",
      "  Downloading opt_einsum-3.3.0-py3-none-any.whl (65 kB)\n",
      "     |████████████████████████████████| 65 kB 7.4 MB/s             \n",
      "\u001b[?25hCollecting termcolor~=1.1.0\n",
      "  Downloading termcolor-1.1.0.tar.gz (3.9 kB)\n",
      "  Preparing metadata (setup.py) ... \u001b[?25ldone\n",
      "\u001b[?25hRequirement already satisfied: wrapt~=1.12.1 in /home/ec2-user/anaconda3/envs/pytorch_latest_p36/lib/python3.6/site-packages (from tensorflow) (1.12.1)\n",
      "Requirement already satisfied: wheel~=0.35 in /home/ec2-user/anaconda3/envs/pytorch_latest_p36/lib/python3.6/site-packages (from tensorflow) (0.36.2)\n",
      "Collecting tensorboard<2.7,>=2.6.0\n",
      "  Downloading tensorboard-2.6.0-py3-none-any.whl (5.6 MB)\n",
      "     |████████████████████████████████| 5.6 MB 45.5 MB/s            \n",
      "\u001b[?25hCollecting absl-py~=0.10\n",
      "  Downloading absl_py-0.15.0-py3-none-any.whl (132 kB)\n",
      "     |████████████████████████████████| 132 kB 23.5 MB/s            \n",
      "\u001b[?25hRequirement already satisfied: protobuf>=3.9.2 in /home/ec2-user/anaconda3/envs/pytorch_latest_p36/lib/python3.6/site-packages (from tensorflow) (3.19.1)\n",
      "Requirement already satisfied: numpy~=1.19.2 in /home/ec2-user/anaconda3/envs/pytorch_latest_p36/lib/python3.6/site-packages (from tensorflow) (1.19.2)\n",
      "Collecting astunparse~=1.6.3\n",
      "  Downloading astunparse-1.6.3-py2.py3-none-any.whl (12 kB)\n",
      "Collecting clang~=5.0\n",
      "  Downloading clang-5.0.tar.gz (30 kB)\n",
      "  Preparing metadata (setup.py) ... \u001b[?25ldone\n",
      "\u001b[?25hCollecting keras-preprocessing~=1.1.2\n",
      "  Downloading Keras_Preprocessing-1.1.2-py2.py3-none-any.whl (42 kB)\n",
      "     |████████████████████████████████| 42 kB 70 kB/s              \n",
      "\u001b[?25hRequirement already satisfied: h5py~=3.1.0 in /home/ec2-user/anaconda3/envs/pytorch_latest_p36/lib/python3.6/site-packages (from tensorflow) (3.1.0)\n",
      "Collecting typing-extensions~=3.7.4\n",
      "  Downloading typing_extensions-3.7.4.3-py3-none-any.whl (22 kB)\n",
      "Collecting gast==0.4.0\n",
      "  Downloading gast-0.4.0-py3-none-any.whl (9.8 kB)\n",
      "Collecting keras<2.7,>=2.6.0\n",
      "  Downloading keras-2.6.0-py2.py3-none-any.whl (1.3 MB)\n",
      "     |████████████████████████████████| 1.3 MB 49.2 MB/s            \n",
      "\u001b[?25hCollecting grpcio<2.0,>=1.37.0\n",
      "  Downloading grpcio-1.47.0-cp36-cp36m-manylinux_2_17_x86_64.manylinux2014_x86_64.whl (4.5 MB)\n",
      "     |████████████████████████████████| 4.5 MB 94.1 MB/s            \n",
      "\u001b[?25hRequirement already satisfied: cached-property in /home/ec2-user/anaconda3/envs/pytorch_latest_p36/lib/python3.6/site-packages (from h5py~=3.1.0->tensorflow) (1.5.1)\n",
      "Requirement already satisfied: requests<3,>=2.21.0 in /home/ec2-user/anaconda3/envs/pytorch_latest_p36/lib/python3.6/site-packages (from tensorboard<2.7,>=2.6.0->tensorflow) (2.26.0)\n",
      "Requirement already satisfied: werkzeug>=0.11.15 in /home/ec2-user/anaconda3/envs/pytorch_latest_p36/lib/python3.6/site-packages (from tensorboard<2.7,>=2.6.0->tensorflow) (2.0.2)\n",
      "Collecting google-auth-oauthlib<0.5,>=0.4.1\n",
      "  Downloading google_auth_oauthlib-0.4.6-py2.py3-none-any.whl (18 kB)\n",
      "Collecting markdown>=2.6.8\n",
      "  Downloading Markdown-3.3.7-py3-none-any.whl (97 kB)\n",
      "     |████████████████████████████████| 97 kB 4.2 MB/s              \n",
      "\u001b[?25hRequirement already satisfied: setuptools>=41.0.0 in /home/ec2-user/anaconda3/envs/pytorch_latest_p36/lib/python3.6/site-packages (from tensorboard<2.7,>=2.6.0->tensorflow) (49.6.0.post20210108)\n",
      "Collecting google-auth<2,>=1.6.3\n",
      "  Downloading google_auth-1.35.0-py2.py3-none-any.whl (152 kB)\n",
      "     |████████████████████████████████| 152 kB 115.8 MB/s            \n",
      "\u001b[?25hCollecting tensorboard-plugin-wit>=1.6.0\n",
      "  Downloading tensorboard_plugin_wit-1.8.1-py3-none-any.whl (781 kB)\n",
      "     |████████████████████████████████| 781 kB 87.5 MB/s            \n",
      "\u001b[?25hCollecting tensorboard-data-server<0.7.0,>=0.6.0\n",
      "  Downloading tensorboard_data_server-0.6.1-py3-none-manylinux2010_x86_64.whl (4.9 MB)\n",
      "     |████████████████████████████████| 4.9 MB 50.9 MB/s            \n",
      "\u001b[?25hCollecting pyasn1-modules>=0.2.1\n",
      "  Downloading pyasn1_modules-0.2.8-py2.py3-none-any.whl (155 kB)\n",
      "     |████████████████████████████████| 155 kB 105.5 MB/s            \n",
      "\u001b[?25hCollecting cachetools<5.0,>=2.0.0\n",
      "  Downloading cachetools-4.2.4-py3-none-any.whl (10 kB)\n",
      "Requirement already satisfied: rsa<5,>=3.1.4 in /home/ec2-user/anaconda3/envs/pytorch_latest_p36/lib/python3.6/site-packages (from google-auth<2,>=1.6.3->tensorboard<2.7,>=2.6.0->tensorflow) (4.7.2)\n",
      "Collecting requests-oauthlib>=0.7.0\n",
      "  Downloading requests_oauthlib-1.3.1-py2.py3-none-any.whl (23 kB)\n",
      "Collecting importlib-metadata>=4.4\n",
      "  Downloading importlib_metadata-4.8.3-py3-none-any.whl (17 kB)\n",
      "Requirement already satisfied: charset-normalizer~=2.0.0 in /home/ec2-user/anaconda3/envs/pytorch_latest_p36/lib/python3.6/site-packages (from requests<3,>=2.21.0->tensorboard<2.7,>=2.6.0->tensorflow) (2.0.9)\n",
      "Requirement already satisfied: urllib3<1.27,>=1.21.1 in /home/ec2-user/anaconda3/envs/pytorch_latest_p36/lib/python3.6/site-packages (from requests<3,>=2.21.0->tensorboard<2.7,>=2.6.0->tensorflow) (1.26.8)\n",
      "Requirement already satisfied: idna<4,>=2.5 in /home/ec2-user/anaconda3/envs/pytorch_latest_p36/lib/python3.6/site-packages (from requests<3,>=2.21.0->tensorboard<2.7,>=2.6.0->tensorflow) (3.1)\n",
      "Requirement already satisfied: certifi>=2017.4.17 in /home/ec2-user/anaconda3/envs/pytorch_latest_p36/lib/python3.6/site-packages (from requests<3,>=2.21.0->tensorboard<2.7,>=2.6.0->tensorflow) (2021.5.30)\n",
      "Requirement already satisfied: dataclasses in /home/ec2-user/anaconda3/envs/pytorch_latest_p36/lib/python3.6/site-packages (from werkzeug>=0.11.15->tensorboard<2.7,>=2.6.0->tensorflow) (0.8)\n",
      "Requirement already satisfied: zipp>=0.5 in /home/ec2-user/anaconda3/envs/pytorch_latest_p36/lib/python3.6/site-packages (from importlib-metadata>=4.4->markdown>=2.6.8->tensorboard<2.7,>=2.6.0->tensorflow) (3.4.0)\n",
      "Requirement already satisfied: pyasn1<0.5.0,>=0.4.6 in /home/ec2-user/anaconda3/envs/pytorch_latest_p36/lib/python3.6/site-packages (from pyasn1-modules>=0.2.1->google-auth<2,>=1.6.3->tensorboard<2.7,>=2.6.0->tensorflow) (0.4.8)\n",
      "Collecting oauthlib>=3.0.0\n",
      "  Downloading oauthlib-3.2.0-py3-none-any.whl (151 kB)\n",
      "     |████████████████████████████████| 151 kB 75.7 MB/s            \n",
      "\u001b[?25hBuilding wheels for collected packages: clang, termcolor\n",
      "  Building wheel for clang (setup.py) ... \u001b[?25ldone\n",
      "\u001b[?25h  Created wheel for clang: filename=clang-5.0-py3-none-any.whl size=30702 sha256=ea33af8aef9866f3116001ab3b906cfddf10ce7b84d9651cec7dce80db98bd21\n",
      "  Stored in directory: /home/ec2-user/.cache/pip/wheels/22/4c/94/0583f60c9c5b6024ed64f290cb2d43b06bb4f75577dc3c93a7\n",
      "  Building wheel for termcolor (setup.py) ... \u001b[?25ldone\n",
      "\u001b[?25h  Created wheel for termcolor: filename=termcolor-1.1.0-py3-none-any.whl size=4829 sha256=9f3f2dd9bf3a41006a807cf3f9e6bb2dff7a95214d093e3436e5cb3ffed3f237\n",
      "  Stored in directory: /home/ec2-user/.cache/pip/wheels/93/2a/eb/e58dbcbc963549ee4f065ff80a59f274cc7210b6eab962acdc\n",
      "Successfully built clang termcolor\n",
      "Installing collected packages: typing-extensions, pyasn1-modules, oauthlib, cachetools, requests-oauthlib, importlib-metadata, google-auth, tensorboard-plugin-wit, tensorboard-data-server, markdown, grpcio, google-auth-oauthlib, absl-py, termcolor, tensorflow-estimator, tensorboard, opt-einsum, keras-preprocessing, keras, gast, flatbuffers, clang, astunparse, tensorflow\n",
      "  Attempting uninstall: typing-extensions\n",
      "    Found existing installation: typing-extensions 4.0.1\n",
      "    Uninstalling typing-extensions-4.0.1:\n",
      "      Successfully uninstalled typing-extensions-4.0.1\n",
      "  Attempting uninstall: importlib-metadata\n",
      "    Found existing installation: importlib-metadata 3.7.0\n",
      "    Uninstalling importlib-metadata-3.7.0:\n",
      "      Successfully uninstalled importlib-metadata-3.7.0\n",
      "\u001b[31mERROR: pip's dependency resolver does not currently take into account all the packages that are installed. This behaviour is the source of the following dependency conflicts.\n",
      "pylint 2.12.2 requires typing-extensions>=3.10.0; python_version < \"3.10\", but you have typing-extensions 3.7.4.3 which is incompatible.\n",
      "astroid 2.9.0 requires typing-extensions>=3.10; python_version < \"3.10\", but you have typing-extensions 3.7.4.3 which is incompatible.\n",
      "aiobotocore 1.3.0 requires botocore<1.20.50,>=1.20.49, but you have botocore 1.24.42 which is incompatible.\u001b[0m\n",
      "Successfully installed absl-py-0.15.0 astunparse-1.6.3 cachetools-4.2.4 clang-5.0 flatbuffers-1.12 gast-0.4.0 google-auth-1.35.0 google-auth-oauthlib-0.4.6 grpcio-1.47.0 importlib-metadata-4.8.3 keras-2.6.0 keras-preprocessing-1.1.2 markdown-3.3.7 oauthlib-3.2.0 opt-einsum-3.3.0 pyasn1-modules-0.2.8 requests-oauthlib-1.3.1 tensorboard-2.6.0 tensorboard-data-server-0.6.1 tensorboard-plugin-wit-1.8.1 tensorflow-2.6.2 tensorflow-estimator-2.6.0 termcolor-1.1.0 typing-extensions-3.7.4.3\n"
     ]
    }
   ],
   "source": [
    "!pip install --upgrade tensorflow"
   ]
  },
  {
   "cell_type": "code",
   "execution_count": 2,
   "id": "2da25939",
   "metadata": {},
   "outputs": [
    {
     "name": "stdout",
     "output_type": "stream",
     "text": [
      "Collecting PyAthena\n",
      "  Downloading PyAthena-2.3.2-py3-none-any.whl (37 kB)\n",
      "Requirement already satisfied: botocore>=1.5.52 in /home/ec2-user/anaconda3/envs/pytorch_latest_p36/lib/python3.6/site-packages (from PyAthena) (1.24.42)\n",
      "Requirement already satisfied: boto3>=1.4.4 in /home/ec2-user/anaconda3/envs/pytorch_latest_p36/lib/python3.6/site-packages (from PyAthena) (1.21.42)\n",
      "Requirement already satisfied: tenacity>=4.1.0 in /home/ec2-user/anaconda3/envs/pytorch_latest_p36/lib/python3.6/site-packages (from PyAthena) (8.0.1)\n",
      "Requirement already satisfied: s3transfer<0.6.0,>=0.5.0 in /home/ec2-user/anaconda3/envs/pytorch_latest_p36/lib/python3.6/site-packages (from boto3>=1.4.4->PyAthena) (0.5.0)\n",
      "Requirement already satisfied: jmespath<2.0.0,>=0.7.1 in /home/ec2-user/anaconda3/envs/pytorch_latest_p36/lib/python3.6/site-packages (from boto3>=1.4.4->PyAthena) (0.10.0)\n",
      "Requirement already satisfied: python-dateutil<3.0.0,>=2.1 in /home/ec2-user/anaconda3/envs/pytorch_latest_p36/lib/python3.6/site-packages (from botocore>=1.5.52->PyAthena) (2.8.1)\n",
      "Requirement already satisfied: urllib3<1.27,>=1.25.4 in /home/ec2-user/anaconda3/envs/pytorch_latest_p36/lib/python3.6/site-packages (from botocore>=1.5.52->PyAthena) (1.26.8)\n",
      "Requirement already satisfied: six>=1.5 in /home/ec2-user/anaconda3/envs/pytorch_latest_p36/lib/python3.6/site-packages (from python-dateutil<3.0.0,>=2.1->botocore>=1.5.52->PyAthena) (1.15.0)\n",
      "Installing collected packages: PyAthena\n",
      "Successfully installed PyAthena-2.3.2\n"
     ]
    }
   ],
   "source": [
    "!pip install PyAthena"
   ]
  },
  {
   "cell_type": "code",
   "execution_count": 3,
   "id": "2270498f",
   "metadata": {},
   "outputs": [
    {
     "name": "stdout",
     "output_type": "stream",
     "text": [
      "Collecting swifter\n",
      "  Downloading swifter-1.3.3.tar.gz (821 kB)\n",
      "     |████████████████████████████████| 821 kB 34.3 MB/s            \n",
      "\u001b[?25h  Preparing metadata (setup.py) ... \u001b[?25ldone\n",
      "\u001b[?25hRequirement already satisfied: pandas>=1.0.0 in /home/ec2-user/anaconda3/envs/pytorch_latest_p36/lib/python3.6/site-packages (from swifter) (1.1.5)\n",
      "Requirement already satisfied: psutil>=5.6.6 in /home/ec2-user/anaconda3/envs/pytorch_latest_p36/lib/python3.6/site-packages (from swifter) (5.8.0)\n",
      "Requirement already satisfied: dask[dataframe]>=2.10.0 in /home/ec2-user/anaconda3/envs/pytorch_latest_p36/lib/python3.6/site-packages (from swifter) (2021.2.0)\n",
      "Requirement already satisfied: tqdm>=4.33.0 in /home/ec2-user/anaconda3/envs/pytorch_latest_p36/lib/python3.6/site-packages (from swifter) (4.62.3)\n",
      "Requirement already satisfied: ipywidgets>=7.0.0 in /home/ec2-user/anaconda3/envs/pytorch_latest_p36/lib/python3.6/site-packages (from swifter) (7.6.3)\n",
      "Requirement already satisfied: cloudpickle>=0.2.2 in /home/ec2-user/anaconda3/envs/pytorch_latest_p36/lib/python3.6/site-packages (from swifter) (1.6.0)\n",
      "Requirement already satisfied: parso>0.4.0 in /home/ec2-user/anaconda3/envs/pytorch_latest_p36/lib/python3.6/site-packages (from swifter) (0.7.0)\n",
      "Requirement already satisfied: bleach>=3.1.1 in /home/ec2-user/anaconda3/envs/pytorch_latest_p36/lib/python3.6/site-packages (from swifter) (4.1.0)\n",
      "Requirement already satisfied: webencodings in /home/ec2-user/anaconda3/envs/pytorch_latest_p36/lib/python3.6/site-packages (from bleach>=3.1.1->swifter) (0.5.1)\n",
      "Requirement already satisfied: six>=1.9.0 in /home/ec2-user/anaconda3/envs/pytorch_latest_p36/lib/python3.6/site-packages (from bleach>=3.1.1->swifter) (1.15.0)\n",
      "Requirement already satisfied: packaging in /home/ec2-user/anaconda3/envs/pytorch_latest_p36/lib/python3.6/site-packages (from bleach>=3.1.1->swifter) (21.3)\n",
      "Requirement already satisfied: pyyaml in /home/ec2-user/anaconda3/envs/pytorch_latest_p36/lib/python3.6/site-packages (from dask[dataframe]>=2.10.0->swifter) (5.4.1)\n",
      "Requirement already satisfied: partd>=0.3.10 in /home/ec2-user/anaconda3/envs/pytorch_latest_p36/lib/python3.6/site-packages (from dask[dataframe]>=2.10.0->swifter) (1.1.0)\n",
      "Requirement already satisfied: fsspec>=0.6.0 in /home/ec2-user/anaconda3/envs/pytorch_latest_p36/lib/python3.6/site-packages (from dask[dataframe]>=2.10.0->swifter) (2021.4.0)\n",
      "Requirement already satisfied: toolz>=0.8.2 in /home/ec2-user/anaconda3/envs/pytorch_latest_p36/lib/python3.6/site-packages (from dask[dataframe]>=2.10.0->swifter) (0.11.1)\n",
      "Requirement already satisfied: numpy>=1.15.1 in /home/ec2-user/anaconda3/envs/pytorch_latest_p36/lib/python3.6/site-packages (from dask[dataframe]>=2.10.0->swifter) (1.19.2)\n",
      "Requirement already satisfied: jupyterlab-widgets>=1.0.0 in /home/ec2-user/anaconda3/envs/pytorch_latest_p36/lib/python3.6/site-packages (from ipywidgets>=7.0.0->swifter) (1.0.0)\n",
      "Requirement already satisfied: widgetsnbextension~=3.5.0 in /home/ec2-user/anaconda3/envs/pytorch_latest_p36/lib/python3.6/site-packages (from ipywidgets>=7.0.0->swifter) (3.5.1)\n",
      "Requirement already satisfied: ipykernel>=4.5.1 in /home/ec2-user/anaconda3/envs/pytorch_latest_p36/lib/python3.6/site-packages (from ipywidgets>=7.0.0->swifter) (5.5.0)\n",
      "Requirement already satisfied: ipython>=4.0.0 in /home/ec2-user/anaconda3/envs/pytorch_latest_p36/lib/python3.6/site-packages (from ipywidgets>=7.0.0->swifter) (7.16.1)\n",
      "Requirement already satisfied: nbformat>=4.2.0 in /home/ec2-user/anaconda3/envs/pytorch_latest_p36/lib/python3.6/site-packages (from ipywidgets>=7.0.0->swifter) (5.1.2)\n",
      "Requirement already satisfied: traitlets>=4.3.1 in /home/ec2-user/anaconda3/envs/pytorch_latest_p36/lib/python3.6/site-packages (from ipywidgets>=7.0.0->swifter) (4.3.3)\n",
      "Requirement already satisfied: python-dateutil>=2.7.3 in /home/ec2-user/anaconda3/envs/pytorch_latest_p36/lib/python3.6/site-packages (from pandas>=1.0.0->swifter) (2.8.1)\n",
      "Requirement already satisfied: pytz>=2017.2 in /home/ec2-user/anaconda3/envs/pytorch_latest_p36/lib/python3.6/site-packages (from pandas>=1.0.0->swifter) (2021.1)\n",
      "Requirement already satisfied: jupyter-client in /home/ec2-user/anaconda3/envs/pytorch_latest_p36/lib/python3.6/site-packages (from ipykernel>=4.5.1->ipywidgets>=7.0.0->swifter) (6.1.11)\n",
      "Requirement already satisfied: tornado>=4.2 in /home/ec2-user/anaconda3/envs/pytorch_latest_p36/lib/python3.6/site-packages (from ipykernel>=4.5.1->ipywidgets>=7.0.0->swifter) (6.1)\n",
      "Requirement already satisfied: prompt-toolkit!=3.0.0,!=3.0.1,<3.1.0,>=2.0.0 in /home/ec2-user/anaconda3/envs/pytorch_latest_p36/lib/python3.6/site-packages (from ipython>=4.0.0->ipywidgets>=7.0.0->swifter) (3.0.5)\n",
      "Requirement already satisfied: decorator in /home/ec2-user/anaconda3/envs/pytorch_latest_p36/lib/python3.6/site-packages (from ipython>=4.0.0->ipywidgets>=7.0.0->swifter) (4.4.2)\n",
      "Requirement already satisfied: backcall in /home/ec2-user/anaconda3/envs/pytorch_latest_p36/lib/python3.6/site-packages (from ipython>=4.0.0->ipywidgets>=7.0.0->swifter) (0.2.0)\n",
      "Requirement already satisfied: pygments in /home/ec2-user/anaconda3/envs/pytorch_latest_p36/lib/python3.6/site-packages (from ipython>=4.0.0->ipywidgets>=7.0.0->swifter) (2.8.0)\n",
      "Requirement already satisfied: setuptools>=18.5 in /home/ec2-user/anaconda3/envs/pytorch_latest_p36/lib/python3.6/site-packages (from ipython>=4.0.0->ipywidgets>=7.0.0->swifter) (49.6.0.post20210108)\n",
      "Requirement already satisfied: jedi>=0.10 in /home/ec2-user/anaconda3/envs/pytorch_latest_p36/lib/python3.6/site-packages (from ipython>=4.0.0->ipywidgets>=7.0.0->swifter) (0.17.2)\n",
      "Requirement already satisfied: pickleshare in /home/ec2-user/anaconda3/envs/pytorch_latest_p36/lib/python3.6/site-packages (from ipython>=4.0.0->ipywidgets>=7.0.0->swifter) (0.7.5)\n",
      "Requirement already satisfied: pexpect in /home/ec2-user/anaconda3/envs/pytorch_latest_p36/lib/python3.6/site-packages (from ipython>=4.0.0->ipywidgets>=7.0.0->swifter) (4.8.0)\n",
      "Requirement already satisfied: jupyter-core in /home/ec2-user/anaconda3/envs/pytorch_latest_p36/lib/python3.6/site-packages (from nbformat>=4.2.0->ipywidgets>=7.0.0->swifter) (4.7.1)\n",
      "Requirement already satisfied: ipython-genutils in /home/ec2-user/anaconda3/envs/pytorch_latest_p36/lib/python3.6/site-packages (from nbformat>=4.2.0->ipywidgets>=7.0.0->swifter) (0.2.0)\n",
      "Requirement already satisfied: jsonschema!=2.5.0,>=2.4 in /home/ec2-user/anaconda3/envs/pytorch_latest_p36/lib/python3.6/site-packages (from nbformat>=4.2.0->ipywidgets>=7.0.0->swifter) (3.2.0)\n",
      "Requirement already satisfied: locket in /home/ec2-user/anaconda3/envs/pytorch_latest_p36/lib/python3.6/site-packages (from partd>=0.3.10->dask[dataframe]>=2.10.0->swifter) (0.2.0)\n",
      "Requirement already satisfied: notebook>=4.4.1 in /home/ec2-user/anaconda3/envs/pytorch_latest_p36/lib/python3.6/site-packages (from widgetsnbextension~=3.5.0->ipywidgets>=7.0.0->swifter) (6.4.6)\n",
      "Requirement already satisfied: pyparsing!=3.0.5,>=2.0.2 in /home/ec2-user/anaconda3/envs/pytorch_latest_p36/lib/python3.6/site-packages (from packaging->bleach>=3.1.1->swifter) (2.4.7)\n",
      "Requirement already satisfied: attrs>=17.4.0 in /home/ec2-user/anaconda3/envs/pytorch_latest_p36/lib/python3.6/site-packages (from jsonschema!=2.5.0,>=2.4->nbformat>=4.2.0->ipywidgets>=7.0.0->swifter) (20.3.0)\n",
      "Requirement already satisfied: pyrsistent>=0.14.0 in /home/ec2-user/anaconda3/envs/pytorch_latest_p36/lib/python3.6/site-packages (from jsonschema!=2.5.0,>=2.4->nbformat>=4.2.0->ipywidgets>=7.0.0->swifter) (0.17.3)\n",
      "Requirement already satisfied: importlib-metadata in /home/ec2-user/anaconda3/envs/pytorch_latest_p36/lib/python3.6/site-packages (from jsonschema!=2.5.0,>=2.4->nbformat>=4.2.0->ipywidgets>=7.0.0->swifter) (4.8.3)\n",
      "Requirement already satisfied: argon2-cffi in /home/ec2-user/anaconda3/envs/pytorch_latest_p36/lib/python3.6/site-packages (from notebook>=4.4.1->widgetsnbextension~=3.5.0->ipywidgets>=7.0.0->swifter) (20.1.0)\n",
      "Requirement already satisfied: pyzmq>=17 in /home/ec2-user/anaconda3/envs/pytorch_latest_p36/lib/python3.6/site-packages (from notebook>=4.4.1->widgetsnbextension~=3.5.0->ipywidgets>=7.0.0->swifter) (22.0.3)\n",
      "Requirement already satisfied: Send2Trash>=1.8.0 in /home/ec2-user/anaconda3/envs/pytorch_latest_p36/lib/python3.6/site-packages (from notebook>=4.4.1->widgetsnbextension~=3.5.0->ipywidgets>=7.0.0->swifter) (1.8.0)\n",
      "Requirement already satisfied: nest-asyncio>=1.5 in /home/ec2-user/anaconda3/envs/pytorch_latest_p36/lib/python3.6/site-packages (from notebook>=4.4.1->widgetsnbextension~=3.5.0->ipywidgets>=7.0.0->swifter) (1.5.4)\n",
      "Requirement already satisfied: terminado>=0.8.3 in /home/ec2-user/anaconda3/envs/pytorch_latest_p36/lib/python3.6/site-packages (from notebook>=4.4.1->widgetsnbextension~=3.5.0->ipywidgets>=7.0.0->swifter) (0.9.2)\n",
      "Requirement already satisfied: prometheus-client in /home/ec2-user/anaconda3/envs/pytorch_latest_p36/lib/python3.6/site-packages (from notebook>=4.4.1->widgetsnbextension~=3.5.0->ipywidgets>=7.0.0->swifter) (0.9.0)\n",
      "Requirement already satisfied: nbconvert in /home/ec2-user/anaconda3/envs/pytorch_latest_p36/lib/python3.6/site-packages (from notebook>=4.4.1->widgetsnbextension~=3.5.0->ipywidgets>=7.0.0->swifter) (6.0.7)\n",
      "Requirement already satisfied: jinja2 in /home/ec2-user/anaconda3/envs/pytorch_latest_p36/lib/python3.6/site-packages (from notebook>=4.4.1->widgetsnbextension~=3.5.0->ipywidgets>=7.0.0->swifter) (2.11.3)\n",
      "Requirement already satisfied: wcwidth in /home/ec2-user/anaconda3/envs/pytorch_latest_p36/lib/python3.6/site-packages (from prompt-toolkit!=3.0.0,!=3.0.1,<3.1.0,>=2.0.0->ipython>=4.0.0->ipywidgets>=7.0.0->swifter) (0.2.5)\n",
      "Requirement already satisfied: ptyprocess>=0.5 in /home/ec2-user/anaconda3/envs/pytorch_latest_p36/lib/python3.6/site-packages (from pexpect->ipython>=4.0.0->ipywidgets>=7.0.0->swifter) (0.7.0)\n",
      "Requirement already satisfied: cffi>=1.0.0 in /home/ec2-user/anaconda3/envs/pytorch_latest_p36/lib/python3.6/site-packages (from argon2-cffi->notebook>=4.4.1->widgetsnbextension~=3.5.0->ipywidgets>=7.0.0->swifter) (1.14.5)\n",
      "Requirement already satisfied: zipp>=0.5 in /home/ec2-user/anaconda3/envs/pytorch_latest_p36/lib/python3.6/site-packages (from importlib-metadata->jsonschema!=2.5.0,>=2.4->nbformat>=4.2.0->ipywidgets>=7.0.0->swifter) (3.4.0)\n",
      "Requirement already satisfied: typing-extensions>=3.6.4 in /home/ec2-user/anaconda3/envs/pytorch_latest_p36/lib/python3.6/site-packages (from importlib-metadata->jsonschema!=2.5.0,>=2.4->nbformat>=4.2.0->ipywidgets>=7.0.0->swifter) (3.7.4.3)\n",
      "Requirement already satisfied: MarkupSafe>=0.23 in /home/ec2-user/anaconda3/envs/pytorch_latest_p36/lib/python3.6/site-packages (from jinja2->notebook>=4.4.1->widgetsnbextension~=3.5.0->ipywidgets>=7.0.0->swifter) (1.1.1)\n",
      "Requirement already satisfied: nbclient<0.6.0,>=0.5.0 in /home/ec2-user/anaconda3/envs/pytorch_latest_p36/lib/python3.6/site-packages (from nbconvert->notebook>=4.4.1->widgetsnbextension~=3.5.0->ipywidgets>=7.0.0->swifter) (0.5.2)\n",
      "Requirement already satisfied: jupyterlab-pygments in /home/ec2-user/anaconda3/envs/pytorch_latest_p36/lib/python3.6/site-packages (from nbconvert->notebook>=4.4.1->widgetsnbextension~=3.5.0->ipywidgets>=7.0.0->swifter) (0.1.2)\n",
      "Requirement already satisfied: entrypoints>=0.2.2 in /home/ec2-user/anaconda3/envs/pytorch_latest_p36/lib/python3.6/site-packages (from nbconvert->notebook>=4.4.1->widgetsnbextension~=3.5.0->ipywidgets>=7.0.0->swifter) (0.3)\n",
      "Requirement already satisfied: pandocfilters>=1.4.1 in /home/ec2-user/anaconda3/envs/pytorch_latest_p36/lib/python3.6/site-packages (from nbconvert->notebook>=4.4.1->widgetsnbextension~=3.5.0->ipywidgets>=7.0.0->swifter) (1.4.2)\n",
      "Requirement already satisfied: mistune<2,>=0.8.1 in /home/ec2-user/anaconda3/envs/pytorch_latest_p36/lib/python3.6/site-packages (from nbconvert->notebook>=4.4.1->widgetsnbextension~=3.5.0->ipywidgets>=7.0.0->swifter) (0.8.4)\n",
      "Requirement already satisfied: testpath in /home/ec2-user/anaconda3/envs/pytorch_latest_p36/lib/python3.6/site-packages (from nbconvert->notebook>=4.4.1->widgetsnbextension~=3.5.0->ipywidgets>=7.0.0->swifter) (0.4.4)\n",
      "Requirement already satisfied: defusedxml in /home/ec2-user/anaconda3/envs/pytorch_latest_p36/lib/python3.6/site-packages (from nbconvert->notebook>=4.4.1->widgetsnbextension~=3.5.0->ipywidgets>=7.0.0->swifter) (0.6.0)\n",
      "Requirement already satisfied: pycparser in /home/ec2-user/anaconda3/envs/pytorch_latest_p36/lib/python3.6/site-packages (from cffi>=1.0.0->argon2-cffi->notebook>=4.4.1->widgetsnbextension~=3.5.0->ipywidgets>=7.0.0->swifter) (2.20)\n",
      "Requirement already satisfied: async-generator in /home/ec2-user/anaconda3/envs/pytorch_latest_p36/lib/python3.6/site-packages (from nbclient<0.6.0,>=0.5.0->nbconvert->notebook>=4.4.1->widgetsnbextension~=3.5.0->ipywidgets>=7.0.0->swifter) (1.10)\n",
      "Building wheels for collected packages: swifter\n",
      "  Building wheel for swifter (setup.py) ... \u001b[?25ldone\n",
      "\u001b[?25h  Created wheel for swifter: filename=swifter-1.3.3-py3-none-any.whl size=16238 sha256=c6bd502a7b6531155cd7c8d40a35e2c7f66ff9054b823929a8ccd0d15b78822c\n",
      "  Stored in directory: /home/ec2-user/.cache/pip/wheels/c5/d5/9d/3eb1cf6cf1a6613e6178c5293388be4c4e98865f18f782048f\n",
      "Successfully built swifter\n",
      "Installing collected packages: swifter\n",
      "Successfully installed swifter-1.3.3\n",
      "Collecting textdistance\n",
      "  Downloading textdistance-4.3.0-py3-none-any.whl (29 kB)\n",
      "Installing collected packages: textdistance\n",
      "Successfully installed textdistance-4.3.0\n",
      "Collecting missingno\n",
      "  Downloading missingno-0.5.1-py3-none-any.whl (8.7 kB)\n",
      "Requirement already satisfied: scipy in /home/ec2-user/anaconda3/envs/pytorch_latest_p36/lib/python3.6/site-packages (from missingno) (1.5.3)\n",
      "Requirement already satisfied: matplotlib in /home/ec2-user/anaconda3/envs/pytorch_latest_p36/lib/python3.6/site-packages (from missingno) (3.3.4)\n",
      "Requirement already satisfied: numpy in /home/ec2-user/anaconda3/envs/pytorch_latest_p36/lib/python3.6/site-packages (from missingno) (1.19.2)\n",
      "Requirement already satisfied: seaborn in /home/ec2-user/anaconda3/envs/pytorch_latest_p36/lib/python3.6/site-packages (from missingno) (0.11.1)\n",
      "Requirement already satisfied: pyparsing!=2.0.4,!=2.1.2,!=2.1.6,>=2.0.3 in /home/ec2-user/anaconda3/envs/pytorch_latest_p36/lib/python3.6/site-packages (from matplotlib->missingno) (2.4.7)\n",
      "Requirement already satisfied: kiwisolver>=1.0.1 in /home/ec2-user/anaconda3/envs/pytorch_latest_p36/lib/python3.6/site-packages (from matplotlib->missingno) (1.3.1)\n",
      "Requirement already satisfied: python-dateutil>=2.1 in /home/ec2-user/anaconda3/envs/pytorch_latest_p36/lib/python3.6/site-packages (from matplotlib->missingno) (2.8.1)\n",
      "Requirement already satisfied: cycler>=0.10 in /home/ec2-user/anaconda3/envs/pytorch_latest_p36/lib/python3.6/site-packages (from matplotlib->missingno) (0.10.0)\n",
      "Requirement already satisfied: pillow>=6.2.0 in /home/ec2-user/anaconda3/envs/pytorch_latest_p36/lib/python3.6/site-packages (from matplotlib->missingno) (8.4.0)\n",
      "Requirement already satisfied: pandas>=0.23 in /home/ec2-user/anaconda3/envs/pytorch_latest_p36/lib/python3.6/site-packages (from seaborn->missingno) (1.1.5)\n",
      "Requirement already satisfied: six in /home/ec2-user/anaconda3/envs/pytorch_latest_p36/lib/python3.6/site-packages (from cycler>=0.10->matplotlib->missingno) (1.15.0)\n",
      "Requirement already satisfied: pytz>=2017.2 in /home/ec2-user/anaconda3/envs/pytorch_latest_p36/lib/python3.6/site-packages (from pandas>=0.23->seaborn->missingno) (2021.1)\n",
      "Installing collected packages: missingno\n",
      "Successfully installed missingno-0.5.1\n"
     ]
    }
   ],
   "source": [
    "import pandas as pd\n",
    "import numpy as np\n",
    "pd.set_option('display.max_colwidth', None)\n",
    "import re\n",
    "!pip install swifter\n",
    "!pip install textdistance\n",
    "pd.options.mode.chained_assignment = None # default='warn'\n",
    "# install if required\n",
    "import sys\n",
    "import swifter\n",
    "!pip install missingno\n",
    "import matplotlib.pyplot as plt"
   ]
  },
  {
   "cell_type": "code",
   "execution_count": 4,
   "id": "de43732c",
   "metadata": {},
   "outputs": [],
   "source": [
    "from tensorflow.keras import layers\n",
    "from tensorflow import keras\n",
    "import tensorflow as tf\n",
    "\n",
    "from sklearn.model_selection import train_test_split\n",
    "from ast import literal_eval"
   ]
  },
  {
   "cell_type": "markdown",
   "id": "5edc7f2b",
   "metadata": {},
   "source": [
    "%%time\n",
    "from pyathena import connect\n",
    "from pyathena.pandas.cursor import PandasCursor\n",
    "\n",
    "cursor = connect(s3_staging_dir='s3://rd11shiva/',region_name='us-east-1',cursor_class=PandasCursor).cursor()\n",
    "\n",
    "query='''SELECT year(date_parse(date_of_event, '%Y%m%d')) as event_year, product_problems, p.patient_problems  FROM \"fda-open-database\".\"event\" cross join unnest (patient) as t(p)'''\n",
    "event = cursor.execute(query.format()).as_pandas()"
   ]
  },
  {
   "cell_type": "code",
   "execution_count": 5,
   "id": "f49f4c94",
   "metadata": {},
   "outputs": [
    {
     "name": "stdout",
     "output_type": "stream",
     "text": [
      "CPU times: user 98.2 ms, sys: 15.2 ms, total: 113 ms\n",
      "Wall time: 2.17 s\n"
     ]
    }
   ],
   "source": [
    "%%time\n",
    "from pyathena import connect\n",
    "from pyathena.pandas.cursor import PandasCursor\n",
    "\n",
    "cursor = connect(s3_staging_dir='s3://rd11shiva/',region_name='us-east-1',cursor_class=PandasCursor).cursor()\n",
    "\n",
    "query='''SELECT * FROM \"staging\".\"fda_to_imdrf_lookup\"'''\n",
    "fda_to_imdrf_lookup = cursor.execute(query.format()).as_pandas()"
   ]
  },
  {
   "cell_type": "code",
   "execution_count": 6,
   "id": "5bd46e0e",
   "metadata": {},
   "outputs": [
    {
     "name": "stdout",
     "output_type": "stream",
     "text": [
      "CPU times: user 1.98 s, sys: 294 ms, total: 2.28 s\n",
      "Wall time: 1min 27s\n"
     ]
    }
   ],
   "source": [
    "%%time\n",
    "from pyathena import connect\n",
    "from pyathena.pandas.cursor import PandasCursor\n",
    "\n",
    "cursor = connect(s3_staging_dir='s3://rd11shiva/',region_name='us-east-1',cursor_class=PandasCursor).cursor()\n",
    "\n",
    "query='''with imdrf_event as\n",
    "(\n",
    "SELECT \n",
    "s.*,d.report_number,d.mdr_report_key,d.mdr_text FROM \"AwsDataCatalog\".\"fda-open-database\".\"event\" d\n",
    "INNER JOIN \"staging\".\"event_no_nlp_native_imdrf\" s \n",
    "ON s.mdr_report_key=d.mdr_report_key\n",
    ")\n",
    "\n",
    "SELECT imdrf_event.device_sequence_id, imdrf_event.product_problems AS product_problem_codes, imdrf_event.patient_problems AS patient_problem_codes, imdrf_event.report_number AS rr, NM.*\n",
    "FROM\n",
    "(\n",
    "SELECT *\n",
    "FROM \"AwsDataCatalog\".\"lbathija_db\".\"normalized_event_pma_after_2018\" WHERE \n",
    "product_code IN ('OYC',\n",
    "'LWS',\n",
    "'FRN',\n",
    "'MVK',\n",
    "'CBK',\n",
    "'DSQ',\n",
    "'NVZ',\n",
    "'NPT',\n",
    "'FKX',\n",
    "'LKK',\n",
    "'MIH',\n",
    "'FMI',\n",
    "'MNT',\n",
    "'KDI',\n",
    "'LPB') and\n",
    "date_of_event>=20200101 and \n",
    "date_of_event<20210101\n",
    ")\n",
    "AS NM\n",
    "INNER JOIN imdrf_event ON (\"NM\".\"report_number\"=\"imdrf_event\".\"report_number\") WHERE NM.true_cond = true  \n",
    "order by date_of_event DESC'''\n",
    "df_UDI_EVENT = cursor.execute(query.format()).as_pandas()"
   ]
  },
  {
   "cell_type": "code",
   "execution_count": 7,
   "id": "e8a2ab15",
   "metadata": {},
   "outputs": [],
   "source": [
    "import random\n",
    "foo=list(df_UDI_EVENT.manufacturer_contact_zip_code.dropna())\n",
    "df_UDI_EVENT['hospital_zip_sim']=df_UDI_EVENT['manufacturer_contact_zip_code'].apply(lambda x: random.choice(foo))"
   ]
  },
  {
   "cell_type": "code",
   "execution_count": 8,
   "id": "3d75807a",
   "metadata": {},
   "outputs": [],
   "source": [
    "df_UDI_EVENT['mdr_report_key']=df_UDI_EVENT['mdr_report_key'].apply(lambda x: str(x))"
   ]
  },
  {
   "cell_type": "markdown",
   "id": "e5a617ef",
   "metadata": {},
   "source": [
    "and (lower(device_name) like ('pulm%')) and\n",
    "date_of_event>=(select max(date_of_event) from  \"lbathija_db\".\"normalized_event_pma_after_2018\")-600 and \n",
    "date_of_event<(select max(date_of_event) from  \"lbathija_db\".\"normalized_event_pma_after_2018\")"
   ]
  },
  {
   "cell_type": "code",
   "execution_count": 9,
   "id": "b550e106",
   "metadata": {},
   "outputs": [
    {
     "data": {
      "text/plain": [
       "128224"
      ]
     },
     "execution_count": 9,
     "metadata": {},
     "output_type": "execute_result"
    }
   ],
   "source": [
    "len(df_UDI_EVENT)"
   ]
  },
  {
   "cell_type": "code",
   "execution_count": 10,
   "id": "eca91587",
   "metadata": {},
   "outputs": [
    {
     "data": {
      "text/plain": [
       "OYC    48180\n",
       "LWS    13849\n",
       "DSQ    11581\n",
       "MVK    11543\n",
       "CBK     8945\n",
       "NVZ     7522\n",
       "FRN     6772\n",
       "NPT     5017\n",
       "FKX     4058\n",
       "LKK     3836\n",
       "MIH     2741\n",
       "FMI     2049\n",
       "KDI     1044\n",
       "LPB     1024\n",
       "MNT       63\n",
       "Name: product_code, dtype: int64"
      ]
     },
     "execution_count": 10,
     "metadata": {},
     "output_type": "execute_result"
    }
   ],
   "source": [
    "df_UDI_EVENT.product_code.value_counts()"
   ]
  },
  {
   "cell_type": "code",
   "execution_count": 11,
   "id": "0472decd",
   "metadata": {},
   "outputs": [],
   "source": [
    "import re\n",
    "def extract_text(doc:str) -> str:\n",
    "    if doc=='[]':\n",
    "        return None\n",
    "    regex_desc = r\"text_type_code=Description of Event or Problem, patient_sequence_number=[0-9], text=([^}]+})\"\n",
    "    desc = list(set(re.findall(regex_desc, doc)))\n",
    "    desc = ' '.join(desc).replace(\"}\", \"\").lower()\n",
    "\n",
    "    regex_addi = r\"text_type_code=Additional Manufacturer Narrative, patient_sequence_number=[0-9], text=([^}]+})\"\n",
    "    addi = list(set(re.findall(regex_addi, doc)))\n",
    "    addi = ' '.join(addi).replace(\"}\", \"\").lower()\n",
    "\n",
    "    if desc and addi:\n",
    "        return desc + \" \" + addi\n",
    "    else:\n",
    "        return desc if desc else addi"
   ]
  },
  {
   "cell_type": "code",
   "execution_count": 12,
   "id": "63d58fcd",
   "metadata": {},
   "outputs": [],
   "source": [
    "import re\n",
    "def extract_patient(doc:str) -> str:\n",
    "    if doc=='[]':\n",
    "        return None\n",
    "    regex_desc = r\"patient_problems=([^}]+})\"\n",
    "    desc = list(set(re.findall(regex_desc, doc)))\n",
    "    desc = ' '.join(desc).replace(\"}\", \"\").lower()\n",
    "    return desc if desc else addi"
   ]
  },
  {
   "cell_type": "code",
   "execution_count": 13,
   "id": "ee3bff69",
   "metadata": {},
   "outputs": [
    {
     "data": {
      "text/plain": [
       "Index(['device_sequence_id', 'product_problem_codes', 'patient_problem_codes',\n",
       "       'rr', 'report_number', 'date_of_event', 'pma_pmn_number', 'brand_name',\n",
       "       'manufacturer_d_name', 'manufacturer_contact_zip_code',\n",
       "       'manufacturer_d_country', 'catalog_number', 'model_number',\n",
       "       'lot_number', 'other_id_number', 'product_code', 'device_name',\n",
       "       'device_class', 'fei_number', 'mdr_report_key', 'mdr_text', 'patient',\n",
       "       'product_problems', 'normalized_pma_pmn_number', 'true_cond',\n",
       "       'event_type', 'hospital_zip_sim'],\n",
       "      dtype='object')"
      ]
     },
     "execution_count": 13,
     "metadata": {},
     "output_type": "execute_result"
    }
   ],
   "source": [
    "df_UDI_EVENT.columns"
   ]
  },
  {
   "cell_type": "code",
   "execution_count": 14,
   "id": "8ec31167",
   "metadata": {},
   "outputs": [],
   "source": [
    "df_UDI_EVENT.mdr_text=df_UDI_EVENT.mdr_text.apply(lambda x: extract_text(x))\n",
    "df_UDI_EVENT.patient=df_UDI_EVENT.patient.apply(lambda x: extract_patient(x))"
   ]
  },
  {
   "cell_type": "code",
   "execution_count": 15,
   "id": "3775f726",
   "metadata": {},
   "outputs": [],
   "source": [
    "df_UDI_EVENT['FEI_Number']=df_UDI_EVENT.report_number.str.split('-').str[0]\n",
    "df_UDI_EVENT['date_of_event']=pd.to_datetime(df_UDI_EVENT['date_of_event'].astype(str),format='%Y-%m-%d',errors='coerce')\n",
    "df_UDI_EVENT['brand_name']=df_UDI_EVENT['brand_name'].str.upper()\n",
    "df_UDI_EVENT.pma_pmn_number=df_UDI_EVENT.pma_pmn_number.str.split('/|-').str[0]\n",
    "df_UDI_EVENT.pma_pmn_number=df_UDI_EVENT.pma_pmn_number.str.split('.').str[0]"
   ]
  },
  {
   "cell_type": "code",
   "execution_count": 16,
   "id": "4fe6ff93",
   "metadata": {},
   "outputs": [],
   "source": [
    "#demo_S1_S2=df_UDI_EVENT[df_UDI_EVENT.jw_score_submission_number==0]\n",
    "demo_S1_S2=df_UDI_EVENT"
   ]
  },
  {
   "cell_type": "code",
   "execution_count": 17,
   "id": "465cc149",
   "metadata": {},
   "outputs": [],
   "source": [
    "demo_S1_S2['patient_product']=(demo_S1_S2['patient_problem_codes'].fillna(\"\")+demo_S1_S2['product_problem_codes'].fillna(\"\")).apply(lambda x: x.replace('][',', '))\n",
    "demo_S1_S2['product_problems']=(demo_S1_S2['patient_problem_codes'].fillna(\"\")+demo_S1_S2['product_problem_codes'].fillna(\"\")).apply(lambda x: x.replace('][',', '))"
   ]
  },
  {
   "cell_type": "code",
   "execution_count": 18,
   "id": "56f7130e",
   "metadata": {},
   "outputs": [],
   "source": [
    "demo_S1_S2.mdr_text=df_UDI_EVENT.date_of_event.apply(lambda x: x.strftime('%m/%d/%Y'))+'|'+demo_S1_S2.normalized_pma_pmn_number+'|'+demo_S1_S2.manufacturer_d_name+'|'+demo_S1_S2.product_code+'|'+demo_S1_S2.brand_name+'|'+demo_S1_S2.report_number+'|'+demo_S1_S2.manufacturer_contact_zip_code+'|'+demo_S1_S2.hospital_zip_sim+'|'+demo_S1_S2.FEI_Number+'|'+demo_S1_S2.device_class+'|'+demo_S1_S2.mdr_report_key+'|'+demo_S1_S2.mdr_text"
   ]
  },
  {
   "cell_type": "code",
   "execution_count": 19,
   "id": "58872dca",
   "metadata": {},
   "outputs": [
    {
     "data": {
      "text/html": [
       "<div>\n",
       "<style scoped>\n",
       "    .dataframe tbody tr th:only-of-type {\n",
       "        vertical-align: middle;\n",
       "    }\n",
       "\n",
       "    .dataframe tbody tr th {\n",
       "        vertical-align: top;\n",
       "    }\n",
       "\n",
       "    .dataframe thead th {\n",
       "        text-align: right;\n",
       "    }\n",
       "</style>\n",
       "<table border=\"1\" class=\"dataframe\">\n",
       "  <thead>\n",
       "    <tr style=\"text-align: right;\">\n",
       "      <th></th>\n",
       "      <th>mdr_text</th>\n",
       "      <th>mdr_report_key</th>\n",
       "    </tr>\n",
       "  </thead>\n",
       "  <tbody>\n",
       "    <tr>\n",
       "      <th>0</th>\n",
       "      <td>12/31/2020|P980016|MEDTRONIC PUERTO RICO OPERATIONS CO.|LWS|EVERA MRI XT DR SURESCAN|3004209178-2021-00700|55112|84070|3004209178|3|11165302|it was reported that the implantable cardioverter defibrillator (icd) system was removed due to infection. no further patient complications have been reported as a result of this event. if information is provided in the future, a supplemental report will be issued.</td>\n",
       "      <td>11165302</td>\n",
       "    </tr>\n",
       "    <tr>\n",
       "      <th>1</th>\n",
       "      <td>12/31/2020|P150001|MEDTRONIC PUERTO RICO OPERATIONS CO.|OYC|640G INSULIN PUMP MMT-1712K|2032227-2021-101840|00777|55112|2032227|3|11130694|information received by medtronic indicated that the insulin pump had a missing retainer ring. the customer stated the connection with the reservoir compartment was broken. no harm requiring medical intervention was reported. troubleshooting was not completed and no further information was provided. the insulin pump will be returned for analysis. tested with a test p-cap and the test p-cap did not lock in place properly due to missing retainer. unable to perform displacement test due to missing retainer. device received with partially broken off reservoir tube lip, missing reservoir tube o-ring, cracked select button on keypad overlay, pillowing keypad overlay, scratched or peeling keypad overlay texture, scratched display window cover, faded or stained or peeling serial number label, peeling or fading end cap address label, cracked case at belt clip rail corner and scratched case. (b)(4). currently it is unknown whether or not the device may have caused or contributed to the event as no product has been returned. the device will be returned for analysis and further information will follow once the analysis has been completed. no conclusion can be drawn at this time. the insulin pump involved in this event is the 640g insulin infusion pump, which is not marketed in the united states. however, the device is similar to the paradigm real-time insulin infusion pump, which is marketed in the united states.</td>\n",
       "      <td>11130694</td>\n",
       "    </tr>\n",
       "    <tr>\n",
       "      <th>2</th>\n",
       "      <td>12/31/2020|P150001|MEDTRONIC PUERTO RICO OPERATIONS CO.|OYC|640G INSULIN PUMP MMT-1712K|2032227-2021-101385|00777|00777|2032227|3|11128970|information received by medtronic indicated that the insulin pump had a damage missing retainer ring. customer stated that the reservoir did not lock into place. customer stated that insulin pump was not drop or bumped. no harm requiring medical intervention was reported. the insulin pump will be returned for analysis. the insulin pump involved in this event is the 640g insulin infusion pump, which is not marketed in the united states. however, the device is similar to the paradigm real-time insulin infusion pump, which is marketed in the united states. (b)(4). currently it is unknown whether or not the device may have caused or contributed to the event as no product has been returned. the device will be returned for analysis and further information will follow once the analysis has been completed. no conclusion can be drawn at this time.</td>\n",
       "      <td>11128970</td>\n",
       "    </tr>\n",
       "    <tr>\n",
       "      <th>3</th>\n",
       "      <td>12/31/2020|P140015|TANDEM DIABETES CARE|OYC|T:SLIM G5 SYSTEM|3013756811-2021-14081|92121|55112|3013756811|3|11259969|it was reported that the customer experienced difficulties charging the pump. there was no reported impact to the customer's blood glucose level. customer declined to provide further information regarding the issue. device not returned.</td>\n",
       "      <td>11259969</td>\n",
       "    </tr>\n",
       "    <tr>\n",
       "      <th>4</th>\n",
       "      <td>12/31/2020|P920015|MPRI|LWS|SPRINT QUATTRO SECURE S MRI SURESCAN|2649622-2021-00820|55112|60073|2649622|3|11163802|it was reported that the patient experienced an infection. the cardiac resynchronization therapy defibrillator (crt-d) system will be explanted. no further patient complications have been reported as a result of this event. concomitant medical products: 5071-53 lead implanted: (b)(6) 2006; 407652 lead implanted: (b)(6) 2006. if information is provided in the future, a supplemental report will be issued.</td>\n",
       "      <td>11163802</td>\n",
       "    </tr>\n",
       "  </tbody>\n",
       "</table>\n",
       "</div>"
      ],
      "text/plain": [
       "                                                                                                                                                                                                                                                                                                                                                                                                                                                                                                                                                                                                                                                                                                                                                                                                                                                                                                                                                                                                                                                                                                                                                                                                                                                                                                                                                                                                                                                                                                                                                                                                                      mdr_text  \\\n",
       "0                                                                                                                                                                                                                                                                                                                                                                                                                                                                                                                                                                                                                                                                                                                                                                                                                                                                                                                                                                                                                                                                                                                                                                                                       12/31/2020|P980016|MEDTRONIC PUERTO RICO OPERATIONS CO.|LWS|EVERA MRI XT DR SURESCAN|3004209178-2021-00700|55112|84070|3004209178|3|11165302|it was reported that the implantable cardioverter defibrillator (icd) system was removed due to infection. no further patient complications have been reported as a result of this event. if information is provided in the future, a supplemental report will be issued.   \n",
       "1  12/31/2020|P150001|MEDTRONIC PUERTO RICO OPERATIONS CO.|OYC|640G INSULIN PUMP MMT-1712K|2032227-2021-101840|00777|55112|2032227|3|11130694|information received by medtronic indicated that the insulin pump had a missing retainer ring. the customer stated the connection with the reservoir compartment was broken. no harm requiring medical intervention was reported. troubleshooting was not completed and no further information was provided. the insulin pump will be returned for analysis. tested with a test p-cap and the test p-cap did not lock in place properly due to missing retainer. unable to perform displacement test due to missing retainer. device received with partially broken off reservoir tube lip, missing reservoir tube o-ring, cracked select button on keypad overlay, pillowing keypad overlay, scratched or peeling keypad overlay texture, scratched display window cover, faded or stained or peeling serial number label, peeling or fading end cap address label, cracked case at belt clip rail corner and scratched case. (b)(4). currently it is unknown whether or not the device may have caused or contributed to the event as no product has been returned. the device will be returned for analysis and further information will follow once the analysis has been completed. no conclusion can be drawn at this time. the insulin pump involved in this event is the 640g insulin infusion pump, which is not marketed in the united states. however, the device is similar to the paradigm real-time insulin infusion pump, which is marketed in the united states.   \n",
       "2                                                                                                                                                                                                                                                                                                                                                                                                                                                                                                                                                                                                12/31/2020|P150001|MEDTRONIC PUERTO RICO OPERATIONS CO.|OYC|640G INSULIN PUMP MMT-1712K|2032227-2021-101385|00777|00777|2032227|3|11128970|information received by medtronic indicated that the insulin pump had a damage missing retainer ring. customer stated that the reservoir did not lock into place. customer stated that insulin pump was not drop or bumped. no harm requiring medical intervention was reported. the insulin pump will be returned for analysis. the insulin pump involved in this event is the 640g insulin infusion pump, which is not marketed in the united states. however, the device is similar to the paradigm real-time insulin infusion pump, which is marketed in the united states. (b)(4). currently it is unknown whether or not the device may have caused or contributed to the event as no product has been returned. the device will be returned for analysis and further information will follow once the analysis has been completed. no conclusion can be drawn at this time.   \n",
       "3                                                                                                                                                                                                                                                                                                                                                                                                                                                                                                                                                                                                                                                                                                                                                                                                                                                                                                                                                                                                                                                                                                                                                                                                                                                            12/31/2020|P140015|TANDEM DIABETES CARE|OYC|T:SLIM G5 SYSTEM|3013756811-2021-14081|92121|55112|3013756811|3|11259969|it was reported that the customer experienced difficulties charging the pump. there was no reported impact to the customer's blood glucose level. customer declined to provide further information regarding the issue. device not returned.   \n",
       "4                                                                                                                                                                                                                                                                                                                                                                                                                                                                                                                                                                                                                                                                                                                                                                                                                                                                                                                                                                                                                                                                                    12/31/2020|P920015|MPRI|LWS|SPRINT QUATTRO SECURE S MRI SURESCAN|2649622-2021-00820|55112|60073|2649622|3|11163802|it was reported that the patient experienced an infection. the cardiac resynchronization therapy defibrillator (crt-d) system will be explanted. no further patient complications have been reported as a result of this event. concomitant medical products: 5071-53 lead implanted: (b)(6) 2006; 407652 lead implanted: (b)(6) 2006. if information is provided in the future, a supplemental report will be issued.   \n",
       "\n",
       "  mdr_report_key  \n",
       "0       11165302  \n",
       "1       11130694  \n",
       "2       11128970  \n",
       "3       11259969  \n",
       "4       11163802  "
      ]
     },
     "execution_count": 19,
     "metadata": {},
     "output_type": "execute_result"
    }
   ],
   "source": [
    "df_UDI_EVENT[['mdr_text','mdr_report_key']].head()"
   ]
  },
  {
   "cell_type": "code",
   "execution_count": 20,
   "id": "b5596232",
   "metadata": {},
   "outputs": [],
   "source": [
    "#df_pat_prob=df_pat_prob[~df_pat_prob.patient_problems.isna()]\n",
    "#df_product_prob=df_product_prob[~df_product_prob.product_problems.isna()]\n",
    "#demo_S1_S2['patient_problems'].fillna('MDR_NAN_pat_prob', inplace=True)\n",
    "#demo_S1_S2['product_problems'].fillna('MDR_NAN_prod_prob', inplace=True)\n",
    "demo_S1_S2['patient_product'].fillna('', inplace=True)\n",
    "demo_S1_S2['mdr_text'].fillna('', inplace=True)\n",
    "demo_S1_S2['event_type'].fillna('', inplace=True)"
   ]
  },
  {
   "cell_type": "code",
   "execution_count": 21,
   "id": "2d0f3456",
   "metadata": {},
   "outputs": [],
   "source": [
    "demo_S1_S2['patient_product_codes']=demo_S1_S2['patient_product'].apply(lambda x: x.strip(\"[ ]\").split(\", \")).astype(str)\n",
    "demo_S1_S2['event_type']=demo_S1_S2['event_type'].apply(lambda x: x.strip(\"[ ]\").split(\", \")).astype(str)"
   ]
  },
  {
   "cell_type": "code",
   "execution_count": 22,
   "id": "f4c39a30",
   "metadata": {},
   "outputs": [
    {
     "data": {
      "text/plain": [
       "array([list(['E1906', 'A24']),\n",
       "       list(['F24', 'E2401', 'A26', 'A12', 'A01']),\n",
       "       list(['A26', 'F24', 'E2401', 'A12', 'A01']),\n",
       "       list(['E2403', 'A0706']), list(['E1906', 'A24'])], dtype=object)"
      ]
     },
     "execution_count": 22,
     "metadata": {},
     "output_type": "execute_result"
    }
   ],
   "source": [
    "demo_S1_S2[\"patient_product_codes\"] = demo_S1_S2[\"patient_product_codes\"].apply(\n",
    "    lambda x: literal_eval(x)\n",
    ")\n",
    "demo_S1_S2[\"patient_product_codes\"].values[:5]"
   ]
  },
  {
   "cell_type": "code",
   "execution_count": 23,
   "id": "09a8cda4",
   "metadata": {},
   "outputs": [
    {
     "data": {
      "text/plain": [
       "array([list(['Injury']), list(['Malfunction']), list(['Malfunction']),\n",
       "       list(['Malfunction']), list(['Injury'])], dtype=object)"
      ]
     },
     "execution_count": 23,
     "metadata": {},
     "output_type": "execute_result"
    }
   ],
   "source": [
    "demo_S1_S2[\"event_type\"] = demo_S1_S2[\"event_type\"].apply(\n",
    "    lambda x: literal_eval(x)\n",
    ")\n",
    "demo_S1_S2[\"event_type\"].values[:5]"
   ]
  },
  {
   "cell_type": "markdown",
   "id": "c918d16a",
   "metadata": {},
   "source": [
    "# Patient_Product_Problems"
   ]
  },
  {
   "cell_type": "code",
   "execution_count": 24,
   "id": "1e56968f",
   "metadata": {},
   "outputs": [
    {
     "name": "stdout",
     "output_type": "stream",
     "text": [
      "Number of rows in training set: 89756\n",
      "Number of rows in validation set: 19234\n",
      "Number of rows in test set: 19234\n",
      "Number of rows in df_product_prob: 128224\n"
     ]
    }
   ],
   "source": [
    "test_split = 0.3\n",
    "\n",
    "# Initial train and test split.\n",
    "train_df, test_df = train_test_split(\n",
    "    demo_S1_S2,\n",
    "    test_size=test_split,\n",
    ")\n",
    "\n",
    "# Splitting the test set further into validation\n",
    "# and new test sets.\n",
    "val_df = test_df.sample(frac=0.5)\n",
    "test_df.drop(val_df.index, inplace=True)\n",
    "\n",
    "print(f\"Number of rows in training set: {len(train_df)}\")\n",
    "print(f\"Number of rows in validation set: {len(val_df)}\")\n",
    "print(f\"Number of rows in test set: {len(test_df)}\")\n",
    "print(f\"Number of rows in df_product_prob: {len(demo_S1_S2)}\")"
   ]
  },
  {
   "cell_type": "code",
   "execution_count": 26,
   "id": "09944d20",
   "metadata": {},
   "outputs": [
    {
     "name": "stdout",
     "output_type": "stream",
     "text": [
      "Vocabulary:\n",
      "\n",
      "['[UNK]', 'A01', 'A24', 'E2403', 'F24', 'E2401', 'A26', 'F27', 'A0705', 'A0708', 'A05', 'A070909', 'A12', 'E1906', 'A141204', 'E210401', 'A071302', 'E1205', 'A050401', 'A0401', 'A1601', 'F02', 'A090801', 'A0721', 'A1409', 'A070504', 'A072201', 'E2104', 'A16', 'A070803', 'A0706', 'A090201', 'A090206', 'A1407', 'A090805', 'A14', 'A2202', 'A1603', 'A07', 'A0504', 'A0902', 'A040101', 'A0709', 'E0306', 'A070908', 'E1206', 'A1905', 'A13', 'A0509', 'F28', 'A27', 'A04', 'A160105', 'A070603', 'A09', 'E2330', 'A0712', 'E1024', 'A051201', 'E0601', 'A090406', 'E20', 'E0133', 'A1402', 'A070102', 'A0722', 'A23', 'A1412', 'A140801', 'A0802', 'A1301', 'A0203', 'A1305', 'A25', 'E0506', 'E1713', 'A1006', 'A0404', 'A070910', 'A0104', 'A160503', 'A0414', 'E0501', 'A1107', 'A1403', 'E0605', 'E1002', 'A0101', 'E1901', 'E0514', 'E2321', 'A0202', 'E1720', 'A050405', 'E2107', 'A071102', 'A040609', 'E0602', 'A070101', 'A11', 'E120501', 'E060104', 'E0717', 'A072001', 'A070801', 'A072202', 'A090811', 'E130501', 'A2303', 'E0112', 'E0618', 'A150202', 'A1205', 'E2013', 'E0610', 'A1203', 'E0303', 'E2340', 'A1910', 'A090209', 'E1014', 'E060102', 'A0406', 'A0501', 'A041001', 'A0413', 'E2311', 'E0515', 'E0611', 'E0505', 'E0110', 'A070901', 'E0116', 'A0719', 'A0701', 'A150102', 'A141201', 'E1621', 'E2328', 'E0742', 'E2203', 'A1005', 'A1605', 'E1020', 'E060106', 'A150207', 'A160106', 'A2101', 'A1405', 'E230101', 'E060110', 'A1108', 'A010402', 'E161603', 'E0119', 'A1502', 'A0803', 'A071205', 'E2110', 'E1032', 'E060109', 'A180104', 'E233001', 'E0604', 'E011903', 'E2312', 'A160601', 'A110701', 'E2006', 'E1719', 'A140504', 'A090208', 'E061202', 'A0906', 'A090103', 'A0508', 'A1408', 'A1206', 'A150203', 'E0619', 'A140901', 'A0512', 'A0402', 'A140302', 'A071201', 'E2320', 'A0405', 'E2007', 'A140902', 'A0506', 'F1005', 'E050304', 'A1411', 'E0511', 'E062201', 'E230901', 'E0118', 'A150205', 'A1208', 'A070912', 'A160102', 'E1708', 'E2115', 'E171601', 'E0301', 'E0509', 'E2337', 'E0733', 'A0801', 'A0412', 'A150201', 'A140503', 'A1102', 'E062101', 'E0307', 'E020204', 'E010701', 'A141101', 'E013301', 'A1801', 'A2204', 'E0621', 'E2302', 'A191002', 'E200801', 'E1302', 'A150101', 'E013302', 'A150206', 'A10', 'E0106', 'A160602', 'E233601', 'A040501', 'E0107', 'A010103', 'A071202', 'E2117', 'E2114', 'E0137', 'E0736', 'A150204', 'A071301', 'A1104', 'A2201', 'A18', 'E2008', 'E1705', 'A070104', 'A0711', 'A070602', 'E2338', 'A040601', 'E2317', 'E172001', 'E1714', 'A1702', 'A071204', 'E0304', 'E0139', 'A0411', 'A090807', 'A050701', 'A0201', 'E020201', 'E2315', 'A1503', 'E2204', 'E0127', 'A110201', 'A050702', 'E231501', 'E1707', 'E0731', 'A140402', 'A1304', 'A090812', 'A020602', 'E2319', 'A0909', 'A1009', 'A040610', 'E2010', 'E012202', 'A19', 'A1414', 'E1008', 'E0726', 'E050303', 'E0113', 'A180103', 'A140505', 'A1204', 'E0204', 'A070103', 'E2314', 'A22', 'A08', 'A040502', 'E0607', 'E012206', 'A0205', 'E2002', 'E1001', 'A150208', 'A030202', 'A0901', 'A070802', 'A051105', 'E0115', 'E0109', 'A140502', 'E172002', 'E2304', 'A150105', 'A0713', 'A02', 'F1004', 'E233605', 'A140802', 'A1406', 'A140509', 'A140304', 'E0402', 'A040506', 'E2326', 'E1718', 'E1019', 'E0734', 'E0513', 'E0130', 'A2304', 'A090808', 'A051204', 'E2310', 'E1715', 'E1208', 'E1704', 'E1310', 'E1104', 'E0503', 'E060101', 'E0305', 'A141203', 'A070503', 'E170405', 'E1201', 'E0606', 'E0102', 'A1501', 'A141302', 'A110401', 'E020205', 'E0138', 'A070911', 'A0704', 'A040507', 'E0718', 'E0603', 'A150301', 'A1303', 'A090202', 'A020701', 'A051203', 'A051101', 'A0502', 'E2336', 'E1605', 'E1202', 'E0739', 'E0715', 'E0121', 'A0511', 'A0415', 'A040606', 'A040605', 'A0301', 'E2327', 'A051104', 'A040503', 'E2103', 'E2015', 'E1623', 'E1603', 'E1007', 'E050101', 'A0904', 'A090203', 'A030205', 'E0735', 'E062102', 'E012203', 'A2302', 'A090804', 'A0903', 'A071209', 'A0510', 'A0302', 'E2009', 'E1716', 'E060103', 'E0123', 'E011901', 'A190501', 'A141103', 'A070906', 'A050402', 'A040103', 'E2339', 'E2305', 'E1305', 'E1105', 'E083901', 'E0613', 'A160101', 'A1401', 'A1207', 'A090302', 'A070501', 'A050703', 'A0206', 'E2105', 'E2101', 'E1902', 'E120201', 'E0721', 'A072102', 'A020504', 'E2301', 'E2014', 'E083902', 'E0704', 'E020203', 'E0202', 'E012207', 'E0120', 'A2301', 'A160103', 'A1103', 'A1007', 'A0714', 'A051208', 'A051102', 'A0407', 'E201401', 'E1507', 'E1306', 'E0722', 'E0518', 'E0507', 'E012204', 'A1902', 'A150103', 'A020102', 'E190101', 'E1018', 'E0839', 'E0741', 'E0703', 'E011902', 'A2305', 'A160501', 'A141102', 'A110203', 'A0717', 'A071206', 'A050403', 'A0204', 'F17', 'E2324', 'E2316', 'E2113', 'E2109', 'E1701', 'E120202', 'E0905', 'E0904', 'E0744', 'E0725', 'E0623', 'E061201', 'E050602', 'E0302', 'E0103', 'A180105', 'A150104', 'A110303', 'A090102', 'A0410', 'A040611', 'E1802', 'E1515', 'E1204', 'E1103', 'E1012', 'E0838', 'E0712', 'E0609', 'E0504', 'E050301', 'E0126', 'A210103', 'A210102', 'A1909', 'A1602', 'A150302', 'A1415', 'A1404', 'A110202', 'A1003', 'A0907', 'A090405', 'A0710', 'A040102', 'E2313', 'E230103', 'E1709', 'E170404', 'E1516', 'E1303', 'E1016', 'E0819', 'E0810', 'E0716', 'E0710', 'E0622', 'E062104', 'E0615', 'E060107', 'E051101', 'E040201', 'E030202', 'E012401', 'A170101', 'A160104', 'A141202', 'A140507', 'A140501', 'A110502', 'A090207', 'A072103', 'A0718', 'A070804', 'A0507', 'A040604', 'F1003', 'E233801', 'E233603', 'E2331', 'E2325', 'E1309', 'E1027', 'E1009', 'E0844', 'E0752', 'E0743', 'E0723', 'E0702', 'E0616', 'E0608', 'E050601', 'E0310', 'E0206', 'E020202', 'E013403', 'A210105', 'A170102', 'A17', 'A110206', 'A1002', 'A090407', 'A090404', 'A090204', 'A0720', 'A071208', 'A071207', 'A051205', 'A051202', 'A0207', 'A020101', 'A0103', 'E231201', 'E2309', 'E2202', 'E2112', 'E2111', 'E2108', 'E2003', 'E1907', 'E1801', 'E170501', 'E1703', 'E1628', 'E1622', 'E1614', 'E1610', 'E160303', 'E160302', 'E160301', 'E1311', 'E1207', 'E1102', 'E1023', 'E1022', 'E1021', 'E1006', 'E1004', 'E0750', 'E071101', 'E0701', 'E062103', 'E0617', 'E0614', 'E0516', 'E030201', 'E0117', 'E0114', 'E0101', 'A230501', 'A21', 'A1908', 'A1904', 'A1901', 'A150303', 'A1413', 'A1410', 'A1105', 'A090806', 'A090205', 'A071801', 'A071303', 'A070905', 'A070903', 'A0707', 'A051207', 'A040505', 'A0403', 'E2333', 'E232402', 'E2323', 'E2308', 'E230102', 'E2201', 'E2102', 'E180101', 'E1721', 'E172006', 'E1711', 'E1710', 'E1624', 'E1608', 'E160501', 'E140701', 'E1308', 'E1107', 'E1106', 'E1101', 'E090301', 'E0840', 'E0833', 'E0825', 'E0751', 'E0746', 'E0724', 'E0711', 'E0706', 'E0705', 'E062202', 'E0612', 'E060108', 'E060105', 'E0512', 'E0403', 'E040203', 'E0309', 'E030101', 'E0203', 'E013402', 'E0132', 'E0131', 'E012205', 'E0122', 'E0111', 'A191003', 'A191001', 'A1906', 'A180305', 'A180303', 'A180102', 'A1703', 'A1701', 'A160502', 'A1604', 'A160201', 'A141401', 'A140508', 'A140506', 'A140303', 'A1302', 'A110208', 'A110207', 'A1008', 'A090813', 'A090403', 'A090401', 'A0804', 'A0716', 'A071101', 'A070904', 'A070902', 'A070502', 'A0703', 'A06', 'A051206', 'A051103', 'A040612', 'A020503', 'A020501', 'A010201', 'A010101']\n"
     ]
    }
   ],
   "source": [
    "product_problems = tf.ragged.constant(train_df[\"patient_product_codes\"].values)\n",
    "\n",
    "lookup = tf.keras.layers.StringLookup(output_mode=\"multi_hot\")\n",
    "lookup.adapt(product_problems)\n",
    "vocab = lookup.get_vocabulary()\n",
    "\n",
    "\n",
    "def invert_multi_hot(encoded_labels):\n",
    "    \"\"\"Reverse a single multi-hot encoded label to a tuple of vocab terms.\"\"\"\n",
    "    hot_indices = np.argwhere(encoded_labels == 1.0)[..., 0]\n",
    "    return np.take(vocab, hot_indices)\n",
    "\n",
    "\n",
    "print(\"Vocabulary:\\n\")\n",
    "print(vocab)"
   ]
  },
  {
   "cell_type": "code",
   "execution_count": 27,
   "id": "4383f138",
   "metadata": {},
   "outputs": [
    {
     "name": "stdout",
     "output_type": "stream",
     "text": [
      "Original label: ['A1601']\n",
      "Label-binarized representation: [[0. 0. 0. 0. 0. 0. 0. 0. 0. 0. 0. 0. 0. 0. 0. 0. 0. 0. 0. 0. 1. 0. 0. 0.\n",
      "  0. 0. 0. 0. 0. 0. 0. 0. 0. 0. 0. 0. 0. 0. 0. 0. 0. 0. 0. 0. 0. 0. 0. 0.\n",
      "  0. 0. 0. 0. 0. 0. 0. 0. 0. 0. 0. 0. 0. 0. 0. 0. 0. 0. 0. 0. 0. 0. 0. 0.\n",
      "  0. 0. 0. 0. 0. 0. 0. 0. 0. 0. 0. 0. 0. 0. 0. 0. 0. 0. 0. 0. 0. 0. 0. 0.\n",
      "  0. 0. 0. 0. 0. 0. 0. 0. 0. 0. 0. 0. 0. 0. 0. 0. 0. 0. 0. 0. 0. 0. 0. 0.\n",
      "  0. 0. 0. 0. 0. 0. 0. 0. 0. 0. 0. 0. 0. 0. 0. 0. 0. 0. 0. 0. 0. 0. 0. 0.\n",
      "  0. 0. 0. 0. 0. 0. 0. 0. 0. 0. 0. 0. 0. 0. 0. 0. 0. 0. 0. 0. 0. 0. 0. 0.\n",
      "  0. 0. 0. 0. 0. 0. 0. 0. 0. 0. 0. 0. 0. 0. 0. 0. 0. 0. 0. 0. 0. 0. 0. 0.\n",
      "  0. 0. 0. 0. 0. 0. 0. 0. 0. 0. 0. 0. 0. 0. 0. 0. 0. 0. 0. 0. 0. 0. 0. 0.\n",
      "  0. 0. 0. 0. 0. 0. 0. 0. 0. 0. 0. 0. 0. 0. 0. 0. 0. 0. 0. 0. 0. 0. 0. 0.\n",
      "  0. 0. 0. 0. 0. 0. 0. 0. 0. 0. 0. 0. 0. 0. 0. 0. 0. 0. 0. 0. 0. 0. 0. 0.\n",
      "  0. 0. 0. 0. 0. 0. 0. 0. 0. 0. 0. 0. 0. 0. 0. 0. 0. 0. 0. 0. 0. 0. 0. 0.\n",
      "  0. 0. 0. 0. 0. 0. 0. 0. 0. 0. 0. 0. 0. 0. 0. 0. 0. 0. 0. 0. 0. 0. 0. 0.\n",
      "  0. 0. 0. 0. 0. 0. 0. 0. 0. 0. 0. 0. 0. 0. 0. 0. 0. 0. 0. 0. 0. 0. 0. 0.\n",
      "  0. 0. 0. 0. 0. 0. 0. 0. 0. 0. 0. 0. 0. 0. 0. 0. 0. 0. 0. 0. 0. 0. 0. 0.\n",
      "  0. 0. 0. 0. 0. 0. 0. 0. 0. 0. 0. 0. 0. 0. 0. 0. 0. 0. 0. 0. 0. 0. 0. 0.\n",
      "  0. 0. 0. 0. 0. 0. 0. 0. 0. 0. 0. 0. 0. 0. 0. 0. 0. 0. 0. 0. 0. 0. 0. 0.\n",
      "  0. 0. 0. 0. 0. 0. 0. 0. 0. 0. 0. 0. 0. 0. 0. 0. 0. 0. 0. 0. 0. 0. 0. 0.\n",
      "  0. 0. 0. 0. 0. 0. 0. 0. 0. 0. 0. 0. 0. 0. 0. 0. 0. 0. 0. 0. 0. 0. 0. 0.\n",
      "  0. 0. 0. 0. 0. 0. 0. 0. 0. 0. 0. 0. 0. 0. 0. 0. 0. 0. 0. 0. 0. 0. 0. 0.\n",
      "  0. 0. 0. 0. 0. 0. 0. 0. 0. 0. 0. 0. 0. 0. 0. 0. 0. 0. 0. 0. 0. 0. 0. 0.\n",
      "  0. 0. 0. 0. 0. 0. 0. 0. 0. 0. 0. 0. 0. 0. 0. 0. 0. 0. 0. 0. 0. 0. 0. 0.\n",
      "  0. 0. 0. 0. 0. 0. 0. 0. 0. 0. 0. 0. 0. 0. 0. 0. 0. 0. 0. 0. 0. 0. 0. 0.\n",
      "  0. 0. 0. 0. 0. 0. 0. 0. 0. 0. 0. 0. 0. 0. 0. 0. 0. 0. 0. 0. 0. 0. 0. 0.\n",
      "  0. 0. 0. 0. 0. 0. 0. 0. 0. 0. 0. 0. 0. 0. 0. 0. 0. 0. 0. 0. 0. 0. 0. 0.\n",
      "  0. 0. 0. 0. 0. 0. 0. 0. 0. 0. 0. 0. 0. 0. 0. 0. 0. 0. 0. 0. 0. 0. 0. 0.\n",
      "  0. 0. 0. 0. 0. 0. 0. 0. 0. 0. 0. 0. 0. 0. 0. 0. 0. 0. 0. 0. 0. 0. 0. 0.\n",
      "  0. 0. 0. 0. 0. 0. 0. 0. 0. 0. 0. 0. 0. 0. 0. 0. 0. 0. 0. 0. 0. 0. 0. 0.\n",
      "  0. 0. 0. 0. 0. 0. 0. 0. 0. 0. 0. 0. 0. 0. 0. 0. 0. 0. 0. 0. 0. 0. 0. 0.\n",
      "  0. 0. 0. 0. 0. 0. 0. 0. 0. 0. 0. 0. 0. 0. 0. 0. 0. 0. 0. 0. 0. 0. 0. 0.]]\n"
     ]
    }
   ],
   "source": [
    "sample_label = train_df[\"patient_product_codes\"].iloc[0]\n",
    "print(f\"Original label: {sample_label}\")\n",
    "\n",
    "label_binarized = lookup([sample_label])\n",
    "print(f\"Label-binarized representation: {label_binarized}\")"
   ]
  },
  {
   "cell_type": "code",
   "execution_count": 28,
   "id": "6f6bf72c",
   "metadata": {},
   "outputs": [
    {
     "data": {
      "text/plain": [
       "count    89756.000000\n",
       "mean       124.597397\n",
       "std        104.597496\n",
       "min          1.000000\n",
       "25%         59.000000\n",
       "50%        104.000000\n",
       "75%        162.000000\n",
       "max       2546.000000\n",
       "Name: mdr_text, dtype: float64"
      ]
     },
     "execution_count": 28,
     "metadata": {},
     "output_type": "execute_result"
    }
   ],
   "source": [
    "train_df[\"mdr_text\"].apply(lambda x: len(x.split(\" \"))).describe()"
   ]
  },
  {
   "cell_type": "code",
   "execution_count": 29,
   "id": "32715b63",
   "metadata": {},
   "outputs": [],
   "source": [
    "max_seqlen = 150\n",
    "batch_size = 128\n",
    "padding_token = \"<pad>\"\n",
    "auto = tf.data.AUTOTUNE\n",
    "\n",
    "\n",
    "def make_dataset(dataframe, is_train=True):\n",
    "    labels = tf.ragged.constant(dataframe[\"patient_product_codes\"].values)\n",
    "    label_binarized = lookup(labels).numpy()\n",
    "    dataset = tf.data.Dataset.from_tensor_slices(\n",
    "        (dataframe[\"mdr_text\"].values, label_binarized)\n",
    "    )\n",
    "    dataset = dataset.shuffle(batch_size * 10) if is_train else dataset\n",
    "    return dataset.batch(batch_size)"
   ]
  },
  {
   "cell_type": "code",
   "execution_count": 30,
   "id": "b3320f97",
   "metadata": {},
   "outputs": [],
   "source": [
    "train_dataset = make_dataset(train_df, is_train=True)\n",
    "validation_dataset = make_dataset(val_df, is_train=False)\n",
    "test_dataset = make_dataset(test_df, is_train=False)"
   ]
  },
  {
   "cell_type": "code",
   "execution_count": 31,
   "id": "cc250d59",
   "metadata": {},
   "outputs": [
    {
     "name": "stdout",
     "output_type": "stream",
     "text": [
      "MDR Text: b\"01/06/2020|P150001|MEDTRONIC PUERTO RICO OPERATIONS CO.|OYC|640G INSULIN PUMP MMT-1712K|3004209178-2020-54051|00777|94588|3004209178|3|9574240|it was reported that the retainer ring was missing and the reservoir was not able to lock in place when inserted into the insulin pump. the customer's blood glucose level was unknown at the time of the incident. the customer was advised to discontinue use of the insulin pump and to revert to the back-up plan. the device will be returned for analysis. (b)(4). currently it is unknown whether or not the device may have caused or contributed to the event as no product has been returned. the device will be returned for analysis and further information will follow once the analysis has been completed. no conclusion can be drawn at this time. the insulin pump involved in this event is the 640g insulin infusion pump, which is not marketed in the united states. however, the device is similar to the paradigm real-time insulin infusion pump, which is marketed in the united states.\"\n",
      "Label(s): ['A01' 'A12']\n",
      " \n",
      "MDR Text: b'01/01/2020|P020004|W. L. GORE & ASSOCIATES, INC.|MIH|GORE EXCLUDER AAA ENDOPROSTHESIS|3007284313-2021-01267|86004|91342|3007284313|3|11373817|the following https://gore.pilgrimasp.com/prod/smartsolve/pages/longtexteditor.aspx?dbcolumnname=emdr_describe_event&dbtablename=ss_regulatory_emdr_sec_b5&temprecordid=0000000000000002147502885&initialfetchsize=200&recordid=0000000000000002148399262&supportrichtext=false&pkcolumn=pk_id&viewonly=false&title=describe%20event%20or%20problem&textareatype=1&isnotmodalwindow=true#article was reviewed \"morbidity and mortality following endovascular repair of abdominal aortic aneurysms in the elderly\". daniel silverberg md, ahmad abu rmeileh md, daniel raskin md, uri rimon md and moshe halak md. isr med assoc j. 2020 jan;22(1):17-21. pmid: 31927800. this retrospective study included 128 patients older than 80 years of age who underwent elective endovascular aneurysm repair of abdominal aortic aneurysms between 2007 and 2017. mean age was 84 \\xc2\\xb1 3.4 (range 80-96) years, and 110 patients (86%) were male. the demographics, perioperative morbidity and mortality, and long-term results were reported. a gore\\xc2\\xae excluder\\xc2\\xae aaa endoprosthesis was used in 12 patients. the gore device might have caused or contribute to the following adverse events reported in the literature, which occurred after more than 30 days after the intervention: eight patients required re-interventions of the aneurysm due to different types of endoleak and aneurysmal sac expansion during the follow up period. the majority of interventions were performed using endovascular techniques, while two required a sacotomy. the following article was reviewed \"morbidity and mortality following endovascular repair of abdominal aortic aneurysms in the elderly\". daniel silverberg md, ahmad abu rmeileh md, daniel raskin md, uri rimon md and moshe halak md. isr med assoc j. 2020 jan;22(1):17-21. pmid: 31927800. mean age was 84 \\xc2\\xb1 3.4 (range 80-96) years. the vast majority of the patients were male. the date of event remains unknown, therefore the date the literature was published was selected as the date of event. code \"other\": the device remains implanted in the patient. (b)(4).'\n",
      "Label(s): ['A0101']\n",
      " \n",
      "MDR Text: b'01/18/2020|P150001|MEDTRONIC PUERTO RICO OPERATIONS CO.|OYC|640G INSULIN PUMP MMT-1712K|3004209178-2020-58590|00777|55112|3004209178|3|9619643|information received by medtronic indicated that the insulin pump had an audio anomaly. the customer stated that the device was not making any sound when alarming. the device alarmed hardware low level failure and battery error during self-test. no harm requiring medical intervention was reported. the insulin pump will be returned for analysis. device passed displacement, and self test. no pump error 63 was noted during testing; however, pump error 63 is confirmed in the formatted history file due to a loose connection or a cold solder joint at keypad assembly. no other unexpected audio/vibrate anomaly/absence of alarms were noted during testing. (b)(4). currently it is unknown whether or not the device may have caused or contributed to the event as no product has been returned. the device will be returned for analysis and further information will follow once the analysis has been completed. no conclusion can be drawn at this time. the insulin pump involved in this event is the 640g insulin infusion pump, which is not marketed in the united states. however, the device is similar to the paradigm real-time insulin infusion pump, which is marketed in the united states.'\n",
      "Label(s): ['A1601' 'A0721']\n",
      " \n",
      "MDR Text: b\"11/29/2020|P140015|TANDEM DIABETES CARE|OYC|T:SLIM X2 INSULIN PUMP|3013756811-2020-142240|92121|92121|3013756811|3|11011556|it was reported that a malfunction alarm occurred. there was no reported impact to the customer's blood glucose level. reportedly, customer consulted with a healthcare provider regarding an alternate method for insulin therapy. the device is expected to be returned; however, the device has not yet been received. a supplemental report will be submitted if the device is received and evaluation is performed.\"\n",
      "Label(s): ['A141204']\n",
      " \n",
      "MDR Text: b'10/19/2020|K181108|CONCORD MANUFACTURING|FKX|LIBERTY SELECT CYCLER ASSY(NON-VALUATED)|2937457-2020-02196|02451|92614|2937457|2|10960595|a patient contact reported to fresenius a peritoneal dialysis (pd) patient on continuous cyclic pd (ccpd) therapy on the liberty select cycler experienced peritonitis due to the catheter. there was no specific allegation this adverse event was due to a deficiency or malfunction of any fresenius product(s) or device(s) in the initial reporting. upon follow up, the patient\\xc2\\xbfs pd registered nurse (pdrn) reported this patient was hospitalized on (b)(6) 2020 for peritonitis. the patient\\xc2\\xbfs initial symptoms were not reported by the admitting hospital. peritoneal effluent fluid cultures taken in the hospital on (b)(6) 2020 presented no growth and a white blood cell (wbc) count of 17,100/mm3. the patient was diagnosed with peritonitis due to unknown etiology and prescribed ceftazidime (unknown route, dose, frequency and duration). the patient underwent ccpd therapy on a hospital provided cycler (unknown brand and model) until the patient\\xc2\\xbfs pd catheter (not a fresenius product) was removed due to the severity of the patient\\xc2\\xbfs infection (date unknown). the patient had a central vascular catheter placed and underwent hemodialysis (hd) therapy on a hospital provided hd machine (brand and model unknown) for the remainder of the admission. blood cultures taken in the hospital on (b)(6) 2020 presented no growth and the patient was discharged to home on the same day. there was no report this patient\\xc2\\xbfs peritonitis was due to a deficiency or malfunction of any fresenius product(s) or device(s). the patient recovered from this event and continues hd therapy on an in-center basis. there is no plan for this patient to return to pd therapy. clinical review: it is unknown if a temporal relationship exists between ccpd therapy utilizing the liberty select cycler, liberty cycler set and the adverse event of peritonitis. it is well established pd patients are at high risk for infections of the peritoneum. the cause of the patient\\xc2\\xbfs peritonitis is unknown and cannot be determined at this time. additionally, the peritoneal effluent fluid and blood cultures did not yield growth to evidence the type and source of the infectious pathogen. however, it is well-known cultures do not always present growth. with an initially elevated wbc count and patient responsiveness to antibiotic therapy, it is well within reason to believe this peritonitis was bacterial in nature. though it was reported by a medical professional there was no malfunction or deficiency of any fresenius product(s) or device(s), the liberty select cycler and liberty cycler set cannot be excluded as a possible contributor to this event. based on the available information, there is no specific allegation or objective evidence indicating a fresenius device(s) or product(s) deficiency or malfunction, caused or contributed to the patient\\xc2\\xbfs adverse event. the plant investigation is in process. a supplemental mdr will be submitted upon completion of this activity.'\n",
      "Label(s): ['A24' 'E1024']\n",
      " \n"
     ]
    }
   ],
   "source": [
    "text_batch, label_batch = next(iter(train_dataset))\n",
    "\n",
    "for i, text in enumerate(text_batch[:5]):\n",
    "    label = label_batch[i].numpy()[None, ...]\n",
    "    print(f\"MDR Text: {text}\")\n",
    "    print(f\"Label(s): {invert_multi_hot(label[0])}\")\n",
    "    print(\" \")"
   ]
  },
  {
   "cell_type": "code",
   "execution_count": 32,
   "id": "f88e40bd",
   "metadata": {},
   "outputs": [
    {
     "name": "stdout",
     "output_type": "stream",
     "text": [
      "166057\n"
     ]
    }
   ],
   "source": [
    "vocabulary = set()\n",
    "train_df[\"mdr_text\"].str.lower().str.split().apply(vocabulary.update)\n",
    "vocabulary_size = len(vocabulary)\n",
    "print(vocabulary_size)"
   ]
  },
  {
   "cell_type": "code",
   "execution_count": 33,
   "id": "dd51cb61",
   "metadata": {},
   "outputs": [],
   "source": [
    "text_vectorizer = layers.TextVectorization(\n",
    "    max_tokens=vocabulary_size, ngrams=2, output_mode=\"tf_idf\"\n",
    ")\n",
    "\n",
    "# `TextVectorization` layer needs to be adapted as per the vocabulary from our\n",
    "# training set.\n",
    "with tf.device(\"/CPU:0\"):\n",
    "    text_vectorizer.adapt(train_dataset.map(lambda text, label: text))\n",
    "\n",
    "train_dataset = train_dataset.map(\n",
    "    lambda text, label: (text_vectorizer(text), label), num_parallel_calls=auto\n",
    ").prefetch(auto)\n",
    "validation_dataset = validation_dataset.map(\n",
    "    lambda text, label: (text_vectorizer(text), label), num_parallel_calls=auto\n",
    ").prefetch(auto)\n",
    "test_dataset = test_dataset.map(\n",
    "    lambda text, label: (text_vectorizer(text), label), num_parallel_calls=auto\n",
    ").prefetch(auto)"
   ]
  },
  {
   "cell_type": "code",
   "execution_count": 34,
   "id": "48fc740b",
   "metadata": {},
   "outputs": [],
   "source": [
    "from tensorflow.keras.layers import Dropout\n",
    "\n",
    "def make_model():\n",
    "    shallow_mlp_model = keras.Sequential(\n",
    "        [\n",
    "            layers.Dense(512, activation=\"relu\"),\n",
    "            layers.Dropout(0.2),\n",
    "            layers.Dense(256, activation=\"relu\"),\n",
    "            layers.Dropout(0.2),\n",
    "            layers.Dense(lookup.vocabulary_size(), activation=\"sigmoid\"),\n",
    "        ]  \n",
    "    )\n",
    "    return shallow_mlp_model"
   ]
  },
  {
   "cell_type": "code",
   "execution_count": 35,
   "id": "c7d51fd9",
   "metadata": {},
   "outputs": [],
   "source": [
    "from tensorflow.keras.callbacks import EarlyStopping\n",
    "early_stop=EarlyStopping(monitor='val_loss',mode='min',verbose=1,patience=25)"
   ]
  },
  {
   "cell_type": "code",
   "execution_count": 36,
   "id": "03d2e053",
   "metadata": {},
   "outputs": [
    {
     "name": "stdout",
     "output_type": "stream",
     "text": [
      "Epoch 1/5\n",
      "702/702 [==============================] - 304s 432ms/step - loss: 0.0197 - categorical_accuracy: 0.5271 - val_loss: 0.0057 - val_categorical_accuracy: 0.5992\n",
      "Epoch 2/5\n",
      "702/702 [==============================] - 302s 430ms/step - loss: 0.0052 - categorical_accuracy: 0.6119 - val_loss: 0.0054 - val_categorical_accuracy: 0.5852\n",
      "Epoch 3/5\n",
      "702/702 [==============================] - 303s 431ms/step - loss: 0.0043 - categorical_accuracy: 0.6250 - val_loss: 0.0055 - val_categorical_accuracy: 0.5781\n",
      "Epoch 4/5\n",
      "702/702 [==============================] - 303s 431ms/step - loss: 0.0039 - categorical_accuracy: 0.6283 - val_loss: 0.0056 - val_categorical_accuracy: 0.5905\n",
      "Epoch 5/5\n",
      "702/702 [==============================] - 302s 431ms/step - loss: 0.0036 - categorical_accuracy: 0.6317 - val_loss: 0.0059 - val_categorical_accuracy: 0.5705\n"
     ]
    },
    {
     "data": {
      "image/png": "[encoded data removed]",
      "text/plain": [
       "<Figure size 432x288 with 1 Axes>"
      ]
     },
     "metadata": {
      "needs_background": "light"
     },
     "output_type": "display_data"
    },
    {
     "data": {
      "image/png": "[encoded data removed]",
      "text/plain": [
       "<Figure size 432x288 with 1 Axes>"
      ]
     },
     "metadata": {
      "needs_background": "light"
     },
     "output_type": "display_data"
    }
   ],
   "source": [
    "epochs = 5\n",
    "\n",
    "shallow_mlp_model = make_model()\n",
    "shallow_mlp_model.compile(\n",
    "    loss=\"binary_crossentropy\", optimizer=\"adam\", metrics=[\"categorical_accuracy\"]\n",
    ")\n",
    "\n",
    "history = shallow_mlp_model.fit(\n",
    "    train_dataset, validation_data=validation_dataset, epochs=epochs, callbacks=[early_stop]\n",
    ")\n",
    "\n",
    "\n",
    "def plot_result(item):\n",
    "    plt.plot(history.history[item], label=item)\n",
    "    plt.plot(history.history[\"val_\" + item], label=\"val_\" + item)\n",
    "    plt.xlabel(\"Epochs\")\n",
    "    plt.ylabel(item)\n",
    "    plt.title(\"Train and Validation {} Over Epochs\".format(item), fontsize=14)\n",
    "    plt.legend()\n",
    "    plt.grid()\n",
    "    plt.show()\n",
    "\n",
    "\n",
    "plot_result(\"loss\")\n",
    "plot_result(\"categorical_accuracy\")"
   ]
  },
  {
   "cell_type": "code",
   "execution_count": 37,
   "id": "5b51c829",
   "metadata": {},
   "outputs": [
    {
     "name": "stdout",
     "output_type": "stream",
     "text": [
      "151/151 [==============================] - 21s 135ms/step - loss: 0.0060 - categorical_accuracy: 0.5699\n",
      "Categorical accuracy on the test set: 56.99%.\n"
     ]
    }
   ],
   "source": [
    "_, categorical_acc = shallow_mlp_model.evaluate(test_dataset)\n",
    "print(f\"Categorical accuracy on the test set: {round(categorical_acc * 100, 2)}%.\")"
   ]
  },
  {
   "cell_type": "code",
   "execution_count": 38,
   "id": "d4472c5e",
   "metadata": {},
   "outputs": [
    {
     "name": "stdout",
     "output_type": "stream",
     "text": [
      "702/702 [==============================] - 97s 137ms/step - loss: 0.0026 - categorical_accuracy: 0.6193\n",
      "Categorical accuracy on the train set: 61.93%.\n"
     ]
    }
   ],
   "source": [
    "_, categorical_acc = shallow_mlp_model.evaluate(train_dataset)\n",
    "print(f\"Categorical accuracy on the train set: {round(categorical_acc * 100, 2)}%.\")"
   ]
  },
  {
   "cell_type": "code",
   "execution_count": 39,
   "id": "7511e672",
   "metadata": {},
   "outputs": [
    {
     "name": "stdout",
     "output_type": "stream",
     "text": [
      "151/151 [==============================] - 21s 135ms/step - loss: 0.0059 - categorical_accuracy: 0.5705\n",
      "Categorical accuracy on the validation set: 57.05%.\n"
     ]
    }
   ],
   "source": [
    "_, categorical_acc = shallow_mlp_model.evaluate(validation_dataset)\n",
    "print(f\"Categorical accuracy on the validation set: {round(categorical_acc * 100, 2)}%.\")"
   ]
  },
  {
   "cell_type": "code",
   "execution_count": 40,
   "id": "15214fcc",
   "metadata": {},
   "outputs": [],
   "source": [
    "lis=[]\n",
    "# Create a model for inference.\n",
    "model_for_inference = keras.Sequential([text_vectorizer, shallow_mlp_model])\n",
    "\n",
    "# Create a small dataset just for demoing inference.\n",
    "batch_size=len(test_df)\n",
    "inference_dataset = make_dataset(test_df, is_train=False)\n",
    "text_batch, label_batch = next(iter(inference_dataset))\n",
    "predicted_probabilities = model_for_inference.predict(text_batch)\n",
    "\n",
    "# Perform inference.\n",
    "for i, text in enumerate(text_batch):\n",
    "    label = label_batch[i].numpy()[None, ...]\n",
    "    #print(f\"MDR Text: {text}\")\n",
    "    #print(f\"Label(s): {invert_multi_hot(label[0])}\")\n",
    "    predicted_proba = [proba for proba in predicted_probabilities[i]]\n",
    "    top_5_labels = [\n",
    "        x\n",
    "        for _, x in sorted(\n",
    "            zip(predicted_probabilities[i], lookup.get_vocabulary()),\n",
    "            key=lambda pair: pair[0],\n",
    "            reverse=True,\n",
    "        )\n",
    "    ][:5]\n",
    "    top_5_score = [\n",
    "        x\n",
    "        for x, _ in sorted(\n",
    "            zip(predicted_probabilities[i], lookup.get_vocabulary()),\n",
    "            key=lambda pair: pair[0],\n",
    "            reverse=True,\n",
    "        )\n",
    "    ][:5]\n",
    "    #print(f\"Predicted Label(s): ({', '.join([label for label in top_5_labels])})\")\n",
    "    #print(\" \")\n",
    "    lis.append([text.numpy(),invert_multi_hot(label[0]),[label for label in top_5_labels],[score for score in top_5_score]])\n",
    "    \n",
    "cols=['MDR Text','MDR Problem Codes', 'NLP Problem Codes','NLP score']\n",
    "Results_Summary_test= pd.DataFrame(lis, columns=cols)"
   ]
  },
  {
   "cell_type": "code",
   "execution_count": 41,
   "id": "9083ca63",
   "metadata": {},
   "outputs": [],
   "source": [
    "lis=[]\n",
    "# Create a model for inference.\n",
    "model_for_inference = keras.Sequential([text_vectorizer, shallow_mlp_model])\n",
    "\n",
    "# Create a small dataset just for demoing inference.\n",
    "batch_size=len(train_df)\n",
    "inference_dataset = make_dataset(train_df, is_train=True)\n",
    "text_batch, label_batch = next(iter(inference_dataset))\n",
    "predicted_probabilities = model_for_inference.predict(text_batch)\n",
    "\n",
    "# Perform inference.\n",
    "for i, text in enumerate(text_batch):\n",
    "    label = label_batch[i].numpy()[None, ...]\n",
    "    #print(f\"MDR Text: {text}\")\n",
    "    #print(f\"Label(s): {invert_multi_hot(label[0])}\")\n",
    "    predicted_proba = [proba for proba in predicted_probabilities[i]]\n",
    "    top_5_labels = [\n",
    "        x\n",
    "        for _, x in sorted(\n",
    "            zip(predicted_probabilities[i], lookup.get_vocabulary()),\n",
    "            key=lambda pair: pair[0],\n",
    "            reverse=True,\n",
    "        )\n",
    "    ][:5]\n",
    "    top_5_score = [\n",
    "        x\n",
    "        for x, _ in sorted(\n",
    "            zip(predicted_probabilities[i], lookup.get_vocabulary()),\n",
    "            key=lambda pair: pair[0],\n",
    "            reverse=True,\n",
    "        )\n",
    "    ][:5]\n",
    "    #print(f\"Predicted Label(s): ({', '.join([label for label in top_5_labels])})\")\n",
    "    #print(\" \")\n",
    "    lis.append([text.numpy(),invert_multi_hot(label[0]),[label for label in top_5_labels],[score for score in top_5_score]])\n",
    "    \n",
    "cols=['MDR Text','MDR Problem Codes', 'NLP Problem Codes','NLP score']\n",
    "Results_Summary_train= pd.DataFrame(lis, columns=cols)"
   ]
  },
  {
   "cell_type": "code",
   "execution_count": 42,
   "id": "5b2905f4",
   "metadata": {},
   "outputs": [],
   "source": [
    "lis=[]\n",
    "# Create a model for inference.\n",
    "model_for_inference = keras.Sequential([text_vectorizer, shallow_mlp_model])\n",
    "\n",
    "# Create a small dataset just for demoing inference.\n",
    "batch_size=len(val_df)\n",
    "inference_dataset = make_dataset(val_df, is_train=False)\n",
    "text_batch, label_batch = next(iter(inference_dataset))\n",
    "predicted_probabilities = model_for_inference.predict(text_batch)\n",
    "\n",
    "# Perform inference.\n",
    "for i, text in enumerate(text_batch):\n",
    "    label = label_batch[i].numpy()[None, ...]\n",
    "    #print(f\"MDR Text: {text}\")\n",
    "    #print(f\"Label(s): {invert_multi_hot(label[0])}\")\n",
    "    predicted_proba = [proba for proba in predicted_probabilities[i]]\n",
    "    top_5_labels = [\n",
    "        x\n",
    "        for _, x in sorted(\n",
    "            zip(predicted_probabilities[i], lookup.get_vocabulary()),\n",
    "            key=lambda pair: pair[0],\n",
    "            reverse=True,\n",
    "        )\n",
    "    ][:5]\n",
    "    top_5_score = [\n",
    "        x\n",
    "        for x, _ in sorted(\n",
    "            zip(predicted_probabilities[i], lookup.get_vocabulary()),\n",
    "            key=lambda pair: pair[0],\n",
    "            reverse=True,\n",
    "        )\n",
    "    ][:5]\n",
    "    #print(f\"Predicted Label(s): ({', '.join([label for label in top_5_labels])})\")\n",
    "    #print(\" \")\n",
    "    lis.append([text.numpy(),invert_multi_hot(label[0]),[label for label in top_5_labels],[score for score in top_5_score]])\n",
    "    \n",
    "cols=['MDR Text','MDR Problem Codes', 'NLP Problem Codes','NLP score']\n",
    "Results_Summary_val= pd.DataFrame(lis, columns=cols)"
   ]
  },
  {
   "cell_type": "markdown",
   "id": "62d2ca6a",
   "metadata": {},
   "source": [
    "# Event_Type"
   ]
  },
  {
   "cell_type": "code",
   "execution_count": 43,
   "id": "41963aa5",
   "metadata": {},
   "outputs": [
    {
     "name": "stdout",
     "output_type": "stream",
     "text": [
      "Vocabulary:\n",
      "\n",
      "['[UNK]', 'Malfunction', 'Injury', 'Death', 'No answer provided']\n"
     ]
    }
   ],
   "source": [
    "eve_type = tf.ragged.constant(train_df[\"event_type\"].values)\n",
    "\n",
    "lookup = tf.keras.layers.StringLookup(output_mode=\"multi_hot\")\n",
    "lookup.adapt(eve_type)\n",
    "vocab = lookup.get_vocabulary()\n",
    "\n",
    "\n",
    "def invert_multi_hot(encoded_labels):\n",
    "    \"\"\"Reverse a single multi-hot encoded label to a tuple of vocab terms.\"\"\"\n",
    "    hot_indices = np.argwhere(encoded_labels == 1.0)[..., 0]\n",
    "    return np.take(vocab, hot_indices)\n",
    "\n",
    "\n",
    "print(\"Vocabulary:\\n\")\n",
    "print(vocab)"
   ]
  },
  {
   "cell_type": "code",
   "execution_count": 44,
   "id": "94593ede",
   "metadata": {},
   "outputs": [
    {
     "name": "stdout",
     "output_type": "stream",
     "text": [
      "Original label: ['Malfunction']\n",
      "Label-binarized representation: [[0. 1. 0. 0. 0.]]\n"
     ]
    }
   ],
   "source": [
    "sample_label = train_df[\"event_type\"].iloc[5]\n",
    "print(f\"Original label: {sample_label}\")\n",
    "\n",
    "label_binarized = lookup([sample_label])\n",
    "print(f\"Label-binarized representation: {label_binarized}\")"
   ]
  },
  {
   "cell_type": "code",
   "execution_count": 45,
   "id": "9375f5b4",
   "metadata": {},
   "outputs": [
    {
     "data": {
      "text/plain": [
       "count    89756.000000\n",
       "mean       124.597397\n",
       "std        104.597496\n",
       "min          1.000000\n",
       "25%         59.000000\n",
       "50%        104.000000\n",
       "75%        162.000000\n",
       "max       2546.000000\n",
       "Name: mdr_text, dtype: float64"
      ]
     },
     "execution_count": 45,
     "metadata": {},
     "output_type": "execute_result"
    }
   ],
   "source": [
    "train_df[\"mdr_text\"].apply(lambda x: len(x.split(\" \"))).describe()"
   ]
  },
  {
   "cell_type": "code",
   "execution_count": 46,
   "id": "1afea38c",
   "metadata": {},
   "outputs": [],
   "source": [
    "max_seqlen = 420\n",
    "batch_size = 128\n",
    "padding_token = \"<pad>\"\n",
    "auto = tf.data.AUTOTUNE\n",
    "\n",
    "\n",
    "def make_dataset(dataframe, is_train=True):\n",
    "    labels = tf.ragged.constant(dataframe[\"event_type\"].values)\n",
    "    label_binarized = lookup(labels).numpy()\n",
    "    dataset = tf.data.Dataset.from_tensor_slices(\n",
    "        (dataframe[\"mdr_text\"].values, label_binarized)\n",
    "    )\n",
    "    dataset = dataset.shuffle(batch_size * 10) if is_train else dataset\n",
    "    return dataset.batch(batch_size)"
   ]
  },
  {
   "cell_type": "code",
   "execution_count": 47,
   "id": "c259ab26",
   "metadata": {},
   "outputs": [],
   "source": [
    "train_dataset = make_dataset(train_df[['mdr_text','event_type']], is_train=True)\n",
    "validation_dataset = make_dataset(val_df[['mdr_text','event_type']], is_train=False)\n",
    "test_dataset = make_dataset(test_df[['mdr_text','event_type']], is_train=False)"
   ]
  },
  {
   "cell_type": "code",
   "execution_count": 48,
   "id": "657a574a",
   "metadata": {},
   "outputs": [
    {
     "name": "stdout",
     "output_type": "stream",
     "text": [
      "MDR Text: b'05/28/2020|P110042/S058|BOSTON SCIENTIFIC CORPORATION|LWS|EMBLEM MRI S-ICD|2124215-2020-13246|55112|00777|2124215|3|10253665|it was reported that there was observed oversensing resulting in an inappropriate shock as well as rhythm acceleration when it comes to this device. the episode was seen via remote monitoring. no adverse patient effects were reported. this device remains implanted.'\n",
      "Label(s): ['Malfunction']\n",
      " \n",
      "MDR Text: b\"06/13/2020|P920015|MPRI|LWS|SPRINT QUATTRO SECURE S MRI SURESCAN|2649622-2020-18880|55112|55112|2649622|3|10612631|it was reported that the patient was in the emergency room (er). the patient indicated that three shocks were received earlier that day. it was discovered that an electrical reset occurred, and the shocks could not be confirmed due to missing diagnostics. it was further reported that insulation damage on the right ventricular (rv) lead caused the electrical reset on the icd. the icd and rv lead were explanted and replaced. no further patient complications have been reported as a result of this event. concomitant medical products: product id: 8637-20 neuro pump, implanted: (b)(6) 2019, product id: 8780 catheter, implanted: (b)(6) 2019, product id: 8782 catheter, implanted: (b)(6) 2019. product event summary: the full lead was returned in segments, analyzed, and no anomalies were found. the overlay tubing of the lead was extrinsically breached due to melting. visual analysis of the lead indicated apparent explant damage. the analyst noted destructive analysis was performed. no outer insulation breach or conductor fracture was found. the overlay tubing is an extra layer, an extrinsically breached due to explant damage, and it's not contributed to the electrical complaint. if information is provided in the future, a supplemental report will be issued.\"\n",
      "Label(s): ['Injury']\n",
      " \n",
      "MDR Text: b''\n",
      "Label(s): ['Injury']\n",
      " \n",
      "MDR Text: b'01/21/2020|P140015|TANDEM DIABETES CARE|OYC|T:SLIM G4 SYSTEM|3013756811-2020-14261|92121|00777|3013756811|3|9679329|it was reported that the wake button would intermittently \"stick\". additionally, it was reported that the insulin gauge was inaccurate and that a minimum fill notification occurred. there was no reported impact to the customer\\xc2\\xbfs blood glucose level. the customer declined follow up contact from tandem technical support, therefore no additional information could be obtained. no product was returned for evaluation. should new relevant information become available, a supplemental report will be submitted.'\n",
      "Label(s): ['Malfunction']\n",
      " \n",
      "MDR Text: b\"08/31/2020|P160054|THORATEC CORPORATION|DSQ|HEARTMATE 3 LEFT VENTRICULAR ASSIST SYSTEM|2916596-2020-04497|94588|55442|2916596|3|10573878|it was reported that the patient was admitted after 2 syncopal episodes at home. no dizziness or syncopal episodes since admitted. it was reported that 1 low flow alarm noted on (b)(6) 2020 during system controller interrogation. it was reported that patient has significant outflow graft obstruction from likely pannus formation, which transiently led to the aforementioned changes and her syncope. the patient received a transplant which was successful. no further information was provided. a supplemental report will be submitted when the manufacturer's investigation is completed.\"\n",
      "Label(s): ['Injury']\n",
      " \n"
     ]
    }
   ],
   "source": [
    "text_batch, label_batch = next(iter(train_dataset))\n",
    "\n",
    "for i, text in enumerate(text_batch[:5]):\n",
    "    label = label_batch[i].numpy()[None, ...]\n",
    "    print(f\"MDR Text: {text}\")\n",
    "    print(f\"Label(s): {invert_multi_hot(label[0])}\")\n",
    "    print(\" \")"
   ]
  },
  {
   "cell_type": "code",
   "execution_count": 49,
   "id": "06c3b593",
   "metadata": {},
   "outputs": [
    {
     "name": "stdout",
     "output_type": "stream",
     "text": [
      "166057\n"
     ]
    }
   ],
   "source": [
    "vocabulary = set()\n",
    "train_df[\"mdr_text\"].str.lower().str.split().apply(vocabulary.update)\n",
    "vocabulary_size = len(vocabulary)\n",
    "print(vocabulary_size)"
   ]
  },
  {
   "cell_type": "code",
   "execution_count": 50,
   "id": "cce6ba19",
   "metadata": {},
   "outputs": [],
   "source": [
    "text_vectorizer = layers.TextVectorization(\n",
    "    max_tokens=vocabulary_size, ngrams=2, output_mode=\"tf_idf\"\n",
    ")\n",
    "\n",
    "# `TextVectorization` layer needs to be adapted as per the vocabulary from our\n",
    "# training set.\n",
    "with tf.device(\"/CPU:0\"):\n",
    "    text_vectorizer.adapt(train_dataset.map(lambda text, label: text))\n",
    "\n",
    "train_dataset = train_dataset.map(\n",
    "    lambda text, label: (text_vectorizer(text), label), num_parallel_calls=auto\n",
    ").prefetch(auto)\n",
    "validation_dataset = validation_dataset.map(\n",
    "    lambda text, label: (text_vectorizer(text), label), num_parallel_calls=auto\n",
    ").prefetch(auto)\n",
    "test_dataset = test_dataset.map(\n",
    "    lambda text, label: (text_vectorizer(text), label), num_parallel_calls=auto\n",
    ").prefetch(auto)"
   ]
  },
  {
   "cell_type": "code",
   "execution_count": 51,
   "id": "31b3b24c",
   "metadata": {},
   "outputs": [],
   "source": [
    "from tensorflow.keras.layers import Dropout\n",
    "\n",
    "def make_model():\n",
    "    shallow_mlp_model = keras.Sequential(\n",
    "        [\n",
    "            layers.Dense(512, activation=\"relu\"),\n",
    "            layers.Dropout(0.2),\n",
    "            layers.Dense(256, activation=\"relu\"),\n",
    "            layers.Dropout(0.2),\n",
    "            layers.Dense(lookup.vocabulary_size(), activation=\"sigmoid\"),\n",
    "        ]  \n",
    "    )\n",
    "    return shallow_mlp_model"
   ]
  },
  {
   "cell_type": "code",
   "execution_count": 52,
   "id": "c39d83ed",
   "metadata": {},
   "outputs": [],
   "source": [
    "from tensorflow.keras.callbacks import EarlyStopping\n",
    "early_stop=EarlyStopping(monitor='val_loss',mode='min',verbose=1,patience=25)"
   ]
  },
  {
   "cell_type": "code",
   "execution_count": 53,
   "id": "0c69da0d",
   "metadata": {},
   "outputs": [
    {
     "name": "stdout",
     "output_type": "stream",
     "text": [
      "Epoch 1/5\n",
      "702/702 [==============================] - 301s 427ms/step - loss: 0.1020 - categorical_accuracy: 0.9122 - val_loss: 0.0812 - val_categorical_accuracy: 0.9230\n",
      "Epoch 2/5\n",
      "702/702 [==============================] - 301s 428ms/step - loss: 0.0561 - categorical_accuracy: 0.9464 - val_loss: 0.0865 - val_categorical_accuracy: 0.9258\n",
      "Epoch 3/5\n",
      "702/702 [==============================] - 301s 428ms/step - loss: 0.0420 - categorical_accuracy: 0.9584 - val_loss: 0.1099 - val_categorical_accuracy: 0.9237\n",
      "Epoch 4/5\n",
      "702/702 [==============================] - 300s 427ms/step - loss: 0.0378 - categorical_accuracy: 0.9621 - val_loss: 0.1164 - val_categorical_accuracy: 0.9258\n",
      "Epoch 5/5\n",
      "702/702 [==============================] - 300s 428ms/step - loss: 0.0360 - categorical_accuracy: 0.9633 - val_loss: 0.1219 - val_categorical_accuracy: 0.9238\n"
     ]
    },
    {
     "data": {
      "image/png": "[encoded data removed]",
      "text/plain": [
       "<Figure size 432x288 with 1 Axes>"
      ]
     },
     "metadata": {
      "needs_background": "light"
     },
     "output_type": "display_data"
    },
    {
     "data": {
      "image/png": "[encoded data removed]",
      "text/plain": [
       "<Figure size 432x288 with 1 Axes>"
      ]
     },
     "metadata": {
      "needs_background": "light"
     },
     "output_type": "display_data"
    }
   ],
   "source": [
    "epochs = 5\n",
    "\n",
    "shallow_mlp_model = make_model()\n",
    "shallow_mlp_model.compile(\n",
    "    loss=\"binary_crossentropy\", optimizer=\"adam\", metrics=[\"categorical_accuracy\"]\n",
    ")\n",
    "\n",
    "history = shallow_mlp_model.fit(\n",
    "    train_dataset, validation_data=validation_dataset, epochs=epochs, callbacks=[early_stop]\n",
    ")\n",
    "\n",
    "\n",
    "def plot_result(item):\n",
    "    plt.plot(history.history[item], label=item)\n",
    "    plt.plot(history.history[\"val_\" + item], label=\"val_\" + item)\n",
    "    plt.xlabel(\"Epochs\")\n",
    "    plt.ylabel(item)\n",
    "    plt.title(\"Train and Validation {} Over Epochs\".format(item), fontsize=14)\n",
    "    plt.legend()\n",
    "    plt.grid()\n",
    "    plt.show()\n",
    "\n",
    "\n",
    "plot_result(\"loss\")\n",
    "plot_result(\"categorical_accuracy\")"
   ]
  },
  {
   "cell_type": "code",
   "execution_count": 54,
   "id": "e06d56d3",
   "metadata": {},
   "outputs": [
    {
     "name": "stdout",
     "output_type": "stream",
     "text": [
      "151/151 [==============================] - 20s 133ms/step - loss: 0.1265 - categorical_accuracy: 0.9224\n",
      "Categorical accuracy on the test set: 92.24%.\n"
     ]
    }
   ],
   "source": [
    "_, categorical_acc = shallow_mlp_model.evaluate(test_dataset)\n",
    "print(f\"Categorical accuracy on the test set: {round(categorical_acc * 100, 2)}%.\")"
   ]
  },
  {
   "cell_type": "code",
   "execution_count": 55,
   "id": "bb5c48fa",
   "metadata": {},
   "outputs": [
    {
     "name": "stdout",
     "output_type": "stream",
     "text": [
      "702/702 [==============================] - 96s 136ms/step - loss: 0.0342 - categorical_accuracy: 0.9650\n",
      "Categorical accuracy on the train set: 96.5%.\n"
     ]
    }
   ],
   "source": [
    "_, categorical_acc = shallow_mlp_model.evaluate(train_dataset)\n",
    "print(f\"Categorical accuracy on the train set: {round(categorical_acc * 100, 2)}%.\")"
   ]
  },
  {
   "cell_type": "code",
   "execution_count": 56,
   "id": "75b1e3dc",
   "metadata": {},
   "outputs": [
    {
     "name": "stdout",
     "output_type": "stream",
     "text": [
      "151/151 [==============================] - 20s 133ms/step - loss: 0.1219 - categorical_accuracy: 0.9238\n",
      "Categorical accuracy on the validation set: 92.38%.\n"
     ]
    }
   ],
   "source": [
    "_, categorical_acc = shallow_mlp_model.evaluate(validation_dataset)\n",
    "print(f\"Categorical accuracy on the validation set: {round(categorical_acc * 100, 2)}%.\")"
   ]
  },
  {
   "cell_type": "code",
   "execution_count": 57,
   "id": "deaceff5",
   "metadata": {},
   "outputs": [],
   "source": [
    "lis=[]\n",
    "# Create a model for inference.\n",
    "model_for_inference = keras.Sequential([text_vectorizer, shallow_mlp_model])\n",
    "\n",
    "# Create a small dataset just for demoing inference.\n",
    "batch_size=len(test_df)\n",
    "inference_dataset = make_dataset(test_df, is_train=False)\n",
    "text_batch, label_batch = next(iter(inference_dataset))\n",
    "predicted_probabilities = model_for_inference.predict(text_batch)\n",
    "\n",
    "# Perform inference.\n",
    "for i, text in enumerate(text_batch):\n",
    "    label = label_batch[i].numpy()[None, ...]\n",
    "    #print(f\"MDR Text: {text}\")\n",
    "    #print(f\"Label(s): {invert_multi_hot(label[0])}\")\n",
    "    predicted_proba = [proba for proba in predicted_probabilities[i]]\n",
    "    top_5_labels = [\n",
    "        x\n",
    "        for _, x in sorted(\n",
    "            zip(predicted_probabilities[i], lookup.get_vocabulary()),\n",
    "            key=lambda pair: pair[0],\n",
    "            reverse=True,\n",
    "        )\n",
    "    ][:5]\n",
    "    top_5_score = [\n",
    "        x\n",
    "        for x, _ in sorted(\n",
    "            zip(predicted_probabilities[i], lookup.get_vocabulary()),\n",
    "            key=lambda pair: pair[0],\n",
    "            reverse=True,\n",
    "        )\n",
    "    ][:5]\n",
    "    #print(f\"Predicted Label(s): ({', '.join([label for label in top_5_labels])})\")\n",
    "    #print(\" \")\n",
    "    lis.append([text.numpy(),invert_multi_hot(label[0]),[label for label in top_5_labels],[score for score in top_5_score]])\n",
    "    \n",
    "cols=['MDR Text','MDR event Type', 'NLP Event Type','NLP score ET']\n",
    "Results_Summary_test_ET= pd.DataFrame(lis, columns=cols)"
   ]
  },
  {
   "cell_type": "code",
   "execution_count": 58,
   "id": "671ff577",
   "metadata": {},
   "outputs": [],
   "source": [
    "lis=[]\n",
    "# Create a model for inference.\n",
    "model_for_inference = keras.Sequential([text_vectorizer, shallow_mlp_model])\n",
    "\n",
    "# Create a small dataset just for demoing inference.\n",
    "batch_size=len(train_df)\n",
    "inference_dataset = make_dataset(train_df, is_train=True)\n",
    "text_batch, label_batch = next(iter(inference_dataset))\n",
    "predicted_probabilities = model_for_inference.predict(text_batch)\n",
    "\n",
    "# Perform inference.\n",
    "for i, text in enumerate(text_batch):\n",
    "    label = label_batch[i].numpy()[None, ...]\n",
    "    #print(f\"MDR Text: {text}\")\n",
    "    #print(f\"Label(s): {invert_multi_hot(label[0])}\")\n",
    "    predicted_proba = [proba for proba in predicted_probabilities[i]]\n",
    "    top_5_labels = [\n",
    "        x\n",
    "        for _, x in sorted(\n",
    "            zip(predicted_probabilities[i], lookup.get_vocabulary()),\n",
    "            key=lambda pair: pair[0],\n",
    "            reverse=True,\n",
    "        )\n",
    "    ][:5]\n",
    "    top_5_score = [\n",
    "        x\n",
    "        for x, _ in sorted(\n",
    "            zip(predicted_probabilities[i], lookup.get_vocabulary()),\n",
    "            key=lambda pair: pair[0],\n",
    "            reverse=True,\n",
    "        )\n",
    "    ][:5]\n",
    "    #print(f\"Predicted Label(s): ({', '.join([label for label in top_5_labels])})\")\n",
    "    #print(\" \")\n",
    "    lis.append([text.numpy(),invert_multi_hot(label[0]),[label for label in top_5_labels],[score for score in top_5_score]])\n",
    "    \n",
    "cols=['MDR Text','MDR event Type', 'NLP Event Type','NLP score ET']\n",
    "Results_Summary_train_ET= pd.DataFrame(lis, columns=cols)"
   ]
  },
  {
   "cell_type": "code",
   "execution_count": 59,
   "id": "d2d93e7e",
   "metadata": {},
   "outputs": [],
   "source": [
    "lis=[]\n",
    "# Create a model for inference.\n",
    "model_for_inference = keras.Sequential([text_vectorizer, shallow_mlp_model])\n",
    "\n",
    "# Create a small dataset just for demoing inference.\n",
    "batch_size=len(val_df)\n",
    "inference_dataset = make_dataset(val_df, is_train=False)\n",
    "text_batch, label_batch = next(iter(inference_dataset))\n",
    "predicted_probabilities = model_for_inference.predict(text_batch)\n",
    "\n",
    "# Perform inference.\n",
    "for i, text in enumerate(text_batch):\n",
    "    label = label_batch[i].numpy()[None, ...]\n",
    "    #print(f\"MDR Text: {text}\")\n",
    "    #print(f\"Label(s): {invert_multi_hot(label[0])}\")\n",
    "    predicted_proba = [proba for proba in predicted_probabilities[i]]\n",
    "    top_5_labels = [\n",
    "        x\n",
    "        for _, x in sorted(\n",
    "            zip(predicted_probabilities[i], lookup.get_vocabulary()),\n",
    "            key=lambda pair: pair[0],\n",
    "            reverse=True,\n",
    "        )\n",
    "    ][:5]\n",
    "    top_5_score = [\n",
    "        x\n",
    "        for x, _ in sorted(\n",
    "            zip(predicted_probabilities[i], lookup.get_vocabulary()),\n",
    "            key=lambda pair: pair[0],\n",
    "            reverse=True,\n",
    "        )\n",
    "    ][:5]\n",
    "    #print(f\"Predicted Label(s): ({', '.join([label for label in top_5_labels])})\")\n",
    "    #print(\" \")\n",
    "    lis.append([text.numpy(),invert_multi_hot(label[0]),[label for label in top_5_labels],[score for score in top_5_score]])\n",
    "    \n",
    "cols=['MDR Text','MDR event Type', 'NLP Event Type','NLP score ET']\n",
    "Results_Summary_val_ET= pd.DataFrame(lis, columns=cols)"
   ]
  },
  {
   "cell_type": "markdown",
   "id": "d9a8b0ab",
   "metadata": {},
   "source": [
    "# Compile Results"
   ]
  },
  {
   "cell_type": "code",
   "execution_count": 60,
   "id": "c18d0d49",
   "metadata": {},
   "outputs": [],
   "source": [
    "Results_Summary_PC=pd.concat([Results_Summary_train, Results_Summary_val, Results_Summary_test])\n",
    "Results_Summary_PC=Results_Summary_PC.reset_index()"
   ]
  },
  {
   "cell_type": "code",
   "execution_count": 61,
   "id": "01c3da3f",
   "metadata": {},
   "outputs": [],
   "source": [
    "Results_Summary_ET=pd.concat([Results_Summary_train_ET, Results_Summary_val_ET, Results_Summary_test_ET])\n",
    "Results_Summary_ET=Results_Summary_ET.reset_index()"
   ]
  },
  {
   "cell_type": "code",
   "execution_count": 62,
   "id": "04f4043d",
   "metadata": {},
   "outputs": [],
   "source": [
    "Results_Summary_PC['MDR Text']=Results_Summary_PC['MDR Text'].apply(lambda x: x.decode(\"utf-8\"))\n",
    "Results_Summary_ET['MDR Text']=Results_Summary_ET['MDR Text'].apply(lambda x: x.decode(\"utf-8\"))"
   ]
  },
  {
   "cell_type": "code",
   "execution_count": 63,
   "id": "3a0440fb",
   "metadata": {},
   "outputs": [],
   "source": [
    "#check this snippet\n",
    "df_PC=Results_Summary_PC['MDR Text'].str.split('|',n=11,expand=True)\n",
    "df_PC.rename(columns={0: 'event_date', \n",
    "                   1: 'submission_number', \n",
    "                   2: 'Company',\n",
    "                   3: 'product_code',\n",
    "                   4: 'brand_name',\n",
    "                   5: 'MDR Report_Number', \n",
    "                   6: 'manufacturer_contact_zip_code',\n",
    "                   7: 'hospital_zip_sim',\n",
    "                   8: 'FEI_Number',\n",
    "                   9: 'device_class',\n",
    "                   10:'mdr_report_key',\n",
    "                   11: 'MDR Text'}, inplace=True)\n",
    "df_PC['event_date']=pd.to_datetime(df_PC['event_date'])\n",
    "Results_Summary1_PC = pd.concat([df_PC,Results_Summary_PC[['MDR Problem Codes', 'NLP Problem Codes','NLP score']]],axis=1)\n",
    "Results_Summary1_PC['event_date']=pd.to_datetime(Results_Summary1_PC['event_date'])"
   ]
  },
  {
   "cell_type": "code",
   "execution_count": 64,
   "id": "25dc96d8",
   "metadata": {},
   "outputs": [],
   "source": [
    "#check this snippet\n",
    "df_ET=Results_Summary_ET['MDR Text'].str.split('|',n=11,expand=True)\n",
    "df_ET.rename(columns={0: 'event_date', \n",
    "                   1: 'submission_number', \n",
    "                   2: 'Company',\n",
    "                   3: 'product_code',\n",
    "                   4: 'brand_name',\n",
    "                   5: 'MDR Report_Number', \n",
    "                   6: 'manufacturer_contact_zip_code',\n",
    "                   7: 'hospital_zip_sim',\n",
    "                   8: 'FEI_Number',\n",
    "                   9: 'device_class',\n",
    "                   10:'mdr_report_key',\n",
    "                   11: 'MDR Text'}, inplace=True)\n",
    "df_ET['event_date']=pd.to_datetime(df_ET['event_date'])\n",
    "Results_Summary1_ET = pd.concat([df_ET,Results_Summary_ET[['MDR event Type', 'NLP Event Type','NLP score ET']]],axis=1)\n",
    "Results_Summary1_ET['event_date']=pd.to_datetime(Results_Summary1_ET['event_date'])"
   ]
  },
  {
   "cell_type": "code",
   "execution_count": 65,
   "id": "a0d275c0",
   "metadata": {},
   "outputs": [
    {
     "data": {
      "text/plain": [
       "Index(['event_date', 'submission_number', 'Company', 'product_code',\n",
       "       'brand_name', 'MDR Report_Number', 'manufacturer_contact_zip_code',\n",
       "       'hospital_zip_sim', 'FEI_Number', 'device_class', 'mdr_report_key',\n",
       "       'MDR Text', 'MDR event Type', 'NLP Event Type', 'NLP score ET'],\n",
       "      dtype='object')"
      ]
     },
     "execution_count": 65,
     "metadata": {},
     "output_type": "execute_result"
    }
   ],
   "source": [
    "Results_Summary1_ET.columns"
   ]
  },
  {
   "cell_type": "code",
   "execution_count": 66,
   "id": "643fb73f",
   "metadata": {},
   "outputs": [
    {
     "data": {
      "text/plain": [
       "128224"
      ]
     },
     "execution_count": 66,
     "metadata": {},
     "output_type": "execute_result"
    }
   ],
   "source": [
    "len(Results_Summary1_ET)"
   ]
  },
  {
   "cell_type": "code",
   "execution_count": 67,
   "id": "d67431f8",
   "metadata": {},
   "outputs": [
    {
     "data": {
      "text/plain": [
       "Index(['event_date', 'submission_number', 'Company', 'product_code',\n",
       "       'brand_name', 'MDR Report_Number', 'manufacturer_contact_zip_code',\n",
       "       'hospital_zip_sim', 'FEI_Number', 'device_class', 'mdr_report_key',\n",
       "       'MDR Text', 'MDR Problem Codes', 'NLP Problem Codes', 'NLP score'],\n",
       "      dtype='object')"
      ]
     },
     "execution_count": 67,
     "metadata": {},
     "output_type": "execute_result"
    }
   ],
   "source": [
    "Results_Summary1_PC.columns"
   ]
  },
  {
   "cell_type": "code",
   "execution_count": 68,
   "id": "bf021a2d",
   "metadata": {},
   "outputs": [
    {
     "data": {
      "text/plain": [
       "128224"
      ]
     },
     "execution_count": 68,
     "metadata": {},
     "output_type": "execute_result"
    }
   ],
   "source": [
    "len(Results_Summary1_PC)"
   ]
  },
  {
   "cell_type": "code",
   "execution_count": 69,
   "id": "9564f67b",
   "metadata": {},
   "outputs": [],
   "source": [
    "Results_Summary1=pd.concat([Results_Summary1_PC,Results_Summary1_ET[['MDR event Type',\n",
    "       'NLP Event Type', 'NLP score ET']]],axis=1).reset_index()"
   ]
  },
  {
   "cell_type": "code",
   "execution_count": 70,
   "id": "f133fd33",
   "metadata": {},
   "outputs": [
    {
     "data": {
      "text/plain": [
       "128224"
      ]
     },
     "execution_count": 70,
     "metadata": {},
     "output_type": "execute_result"
    }
   ],
   "source": [
    "len(Results_Summary1)"
   ]
  },
  {
   "cell_type": "code",
   "execution_count": 71,
   "id": "f74b0385",
   "metadata": {},
   "outputs": [
    {
     "data": {
      "text/plain": [
       "Index(['index', 'event_date', 'submission_number', 'Company', 'product_code',\n",
       "       'brand_name', 'MDR Report_Number', 'manufacturer_contact_zip_code',\n",
       "       'hospital_zip_sim', 'FEI_Number', 'device_class', 'mdr_report_key',\n",
       "       'MDR Text', 'MDR Problem Codes', 'NLP Problem Codes', 'NLP score',\n",
       "       'MDR event Type', 'NLP Event Type', 'NLP score ET'],\n",
       "      dtype='object')"
      ]
     },
     "execution_count": 71,
     "metadata": {},
     "output_type": "execute_result"
    }
   ],
   "source": [
    "Results_Summary1.columns"
   ]
  },
  {
   "cell_type": "code",
   "execution_count": 72,
   "id": "0aa04a73",
   "metadata": {},
   "outputs": [
    {
     "data": {
      "text/plain": [
       "TRILOGY 100                    1627\n",
       "VELA VENTILATOR                1060\n",
       "TRILOGY 202                     566\n",
       "AVEA VENTILATOR                 420\n",
       "TRILOGY O2                      413\n",
       "                               ... \n",
       "AIRSENSE 10 AUTOSET USA TRI       1\n",
       "AVEA II                           1\n",
       "INFANT FLOW SIPAP                 1\n",
       "TRILOG Y200                       1\n",
       "PRIMUS                            1\n",
       "Name: brand_name, Length: 161, dtype: int64"
      ]
     },
     "execution_count": 72,
     "metadata": {},
     "output_type": "execute_result"
    }
   ],
   "source": [
    "df_UDI_EVENT[df_UDI_EVENT['product_code']=='CBK'].brand_name.value_counts()"
   ]
  },
  {
   "cell_type": "code",
   "execution_count": 73,
   "id": "9d31a855",
   "metadata": {},
   "outputs": [
    {
     "data": {
      "text/plain": [
       "TRILOGY 100                                          765\n",
       "VELA VENTILATOR                                      411\n",
       "TRILOGY 202                                          224\n",
       "TRILOGY O2                                           204\n",
       "ASTRAL 150 - AMER                                    194\n",
       "                                                    ... \n",
       "LIFEVENT EVO2                                          1\n",
       "10PK, DUAL,HTD CKT,SPU, PEDPEEPLESS                    1\n",
       "740 VERNTILATOR                                        1\n",
       "3100 HIGH FREQUENCY OSCILLATING VENTILATOR (HFOV)      1\n",
       "AVEA II VENTILATOR                                     1\n",
       "Name: brand_name, Length: 104, dtype: int64"
      ]
     },
     "execution_count": 73,
     "metadata": {},
     "output_type": "execute_result"
    }
   ],
   "source": [
    "Results_Summary1_ET[Results_Summary1_ET['product_code']=='CBK'].brand_name.value_counts()"
   ]
  },
  {
   "cell_type": "code",
   "execution_count": 74,
   "id": "065143ae",
   "metadata": {},
   "outputs": [
    {
     "data": {
      "text/plain": [
       "TRILOGY 100                                          765\n",
       "VELA VENTILATOR                                      411\n",
       "TRILOGY 202                                          224\n",
       "TRILOGY O2                                           204\n",
       "ASTRAL 150 - AMER                                    194\n",
       "                                                    ... \n",
       "3100 HIGH FREQUENCY OSCILLATING VENTILATOR (HFOV)      1\n",
       "TRILLOGY 100                                           1\n",
       "ASTRAL 150 - APAC3                                     1\n",
       "HT50 VENTILATOR                                        1\n",
       "POWER MANAGER                                          1\n",
       "Name: brand_name, Length: 104, dtype: int64"
      ]
     },
     "execution_count": 74,
     "metadata": {},
     "output_type": "execute_result"
    }
   ],
   "source": [
    "Results_Summary1_PC[Results_Summary1_PC['product_code']=='CBK'].brand_name.value_counts()"
   ]
  },
  {
   "cell_type": "code",
   "execution_count": 75,
   "id": "50ef2dc3",
   "metadata": {},
   "outputs": [
    {
     "data": {
      "text/plain": [
       "TRILOGY 100                                          765\n",
       "VELA VENTILATOR                                      411\n",
       "TRILOGY 202                                          224\n",
       "TRILOGY O2                                           204\n",
       "ASTRAL 150 - AMER                                    194\n",
       "                                                    ... \n",
       "3100 HIGH FREQUENCY OSCILLATING VENTILATOR (HFOV)      1\n",
       "TRILLOGY 100                                           1\n",
       "ASTRAL 150 - APAC3                                     1\n",
       "HT50 VENTILATOR                                        1\n",
       "POWER MANAGER                                          1\n",
       "Name: brand_name, Length: 104, dtype: int64"
      ]
     },
     "execution_count": 75,
     "metadata": {},
     "output_type": "execute_result"
    }
   ],
   "source": [
    "Results_Summary1[Results_Summary1['product_code']=='CBK'].brand_name.value_counts()"
   ]
  },
  {
   "cell_type": "code",
   "execution_count": 76,
   "id": "ed4584fb",
   "metadata": {},
   "outputs": [],
   "source": [
    "Results_Summary1['MDR Annex A']=Results_Summary1['MDR Problem Codes'].apply(lambda x: [idx for idx in x if idx.lower().startswith('A'.lower())])\n",
    "Results_Summary1['MDR Annex EF']=Results_Summary1['MDR Problem Codes'].apply(lambda x: ([idx for idx in x if idx.startswith(('E','F'))]))\n",
    "\n",
    "Results_Summary1['NLP Annex A']=Results_Summary1['NLP Problem Codes'].apply(lambda x: [idx for idx in x if idx.lower().startswith('A'.lower())])\n",
    "Results_Summary1['NLP Annex EF']=Results_Summary1['NLP Problem Codes'].apply(lambda x: ([idx for idx in x if idx.startswith(('E','F'))]))\n"
   ]
  },
  {
   "cell_type": "code",
   "execution_count": 77,
   "id": "c3435b62",
   "metadata": {},
   "outputs": [],
   "source": [
    "def code_mapper(list_of_codes):\n",
    "    list_description=[]\n",
    "    for code in list_of_codes:\n",
    "        list_description.append(fda_to_imdrf_lookup[fda_to_imdrf_lookup.imdrf_code==code]['event_problem'])\n",
    "    return list_description"
   ]
  },
  {
   "cell_type": "code",
   "execution_count": 78,
   "id": "bb816cb9",
   "metadata": {},
   "outputs": [],
   "source": [
    "def flatten(t):\n",
    "    return [item for sublist in t for item in sublist]"
   ]
  },
  {
   "cell_type": "code",
   "execution_count": 79,
   "id": "be63c428",
   "metadata": {},
   "outputs": [],
   "source": [
    "Results_Summary1['MDR Annex A Description']=Results_Summary1['MDR Annex A'].apply(lambda x: flatten(code_mapper(x)))\n",
    "Results_Summary1['MDR Annex EF Description']=Results_Summary1['MDR Annex EF'].apply(lambda x: flatten(code_mapper(x)))\n",
    "Results_Summary1['NLP Annex A Description']=Results_Summary1['NLP Annex A'].apply(lambda x: flatten(code_mapper(x)))\n",
    "Results_Summary1['NLP Annex EF Description']=Results_Summary1['NLP Annex EF'].apply(lambda x: flatten(code_mapper(x)))\n",
    "\n",
    "\n",
    "Results_Summary1['MDR event Type1']=Results_Summary1['MDR event Type'].apply(lambda x: str(x[0]))\n",
    "Results_Summary1['NLP Event Type1']=Results_Summary1['NLP Event Type'].apply(lambda x:str(x[0]))\n",
    "\n",
    "#Results_Summary1 = pd.concat([Results_Summary1,Results_Summary[['MDR Problem Codes', 'NLP Problem Codes','NLP score']]],axis=1)"
   ]
  },
  {
   "cell_type": "code",
   "execution_count": 80,
   "id": "de6348cf",
   "metadata": {},
   "outputs": [],
   "source": [
    "Results_Summary1['MDR_NLP_Diff']=''\n",
    "Results_Summary1['MDR_NLP_Diff']=Results_Summary1['NLP Event Type1'] == Results_Summary1['MDR event Type1']"
   ]
  },
  {
   "cell_type": "code",
   "execution_count": 81,
   "id": "7079dc18",
   "metadata": {},
   "outputs": [
    {
     "data": {
      "text/plain": [
       "128224"
      ]
     },
     "execution_count": 81,
     "metadata": {},
     "output_type": "execute_result"
    }
   ],
   "source": [
    "len(Results_Summary1)"
   ]
  },
  {
   "cell_type": "code",
   "execution_count": 82,
   "id": "59d797e9",
   "metadata": {},
   "outputs": [],
   "source": [
    "Results_Summary1.to_excel(\"sankey_surv_demo_ET.xlsx\")"
   ]
  },
  {
   "cell_type": "code",
   "execution_count": 83,
   "id": "c3741d8d",
   "metadata": {},
   "outputs": [
    {
     "data": {
      "text/plain": [
       "Index(['index', 'event_date', 'submission_number', 'Company', 'product_code',\n",
       "       'brand_name', 'MDR Report_Number', 'manufacturer_contact_zip_code',\n",
       "       'hospital_zip_sim', 'FEI_Number', 'device_class', 'mdr_report_key',\n",
       "       'MDR Text', 'MDR Problem Codes', 'NLP Problem Codes', 'NLP score',\n",
       "       'MDR event Type', 'NLP Event Type', 'NLP score ET', 'MDR Annex A',\n",
       "       'MDR Annex EF', 'NLP Annex A', 'NLP Annex EF',\n",
       "       'MDR Annex A Description', 'MDR Annex EF Description',\n",
       "       'NLP Annex A Description', 'NLP Annex EF Description',\n",
       "       'MDR event Type1', 'NLP Event Type1', 'MDR_NLP_Diff'],\n",
       "      dtype='object')"
      ]
     },
     "execution_count": 83,
     "metadata": {},
     "output_type": "execute_result"
    }
   ],
   "source": [
    "Results_Summary1.columns"
   ]
  },
  {
   "cell_type": "code",
   "execution_count": 84,
   "id": "362b4ed1",
   "metadata": {},
   "outputs": [
    {
     "name": "stdout",
     "output_type": "stream",
     "text": [
      "Collecting awswrangler\n",
      "  Downloading awswrangler-2.14.0-py3-none-any.whl (226 kB)\n",
      "     |████████████████████████████████| 226 kB 35.1 MB/s            \n",
      "\u001b[?25hCollecting jsonpath-ng<2.0.0,>=1.5.3\n",
      "  Downloading jsonpath_ng-1.5.3-py3-none-any.whl (29 kB)\n",
      "Collecting progressbar2<4.0.0,>=3.53.3\n",
      "  Downloading progressbar2-3.55.0-py2.py3-none-any.whl (26 kB)\n",
      "Collecting redshift-connector<2.1.0,>=2.0.889\n",
      "  Downloading redshift_connector-2.0.908-py3-none-any.whl (112 kB)\n",
      "     |████████████████████████████████| 112 kB 138.1 MB/s            \n",
      "\u001b[?25hCollecting pg8000<1.23.0,>=1.16.0\n",
      "  Downloading pg8000-1.22.1-py3-none-any.whl (33 kB)\n",
      "Collecting pymysql<1.1.0,>=0.9.0\n",
      "  Downloading PyMySQL-1.0.2-py3-none-any.whl (43 kB)\n",
      "     |████████████████████████████████| 43 kB 2.8 MB/s             \n",
      "\u001b[?25hRequirement already satisfied: boto3<2.0.0,>=1.20.17 in /home/ec2-user/anaconda3/envs/pytorch_latest_p36/lib/python3.6/site-packages (from awswrangler) (1.21.42)\n",
      "Requirement already satisfied: openpyxl<3.1.0,>=3.0.0 in /home/ec2-user/anaconda3/envs/pytorch_latest_p36/lib/python3.6/site-packages (from awswrangler) (3.0.6)\n",
      "Requirement already satisfied: botocore<2.0.0,>=1.23.17 in /home/ec2-user/anaconda3/envs/pytorch_latest_p36/lib/python3.6/site-packages (from awswrangler) (1.24.42)\n",
      "Collecting opensearch-py<2.0.0,>=1.0.0\n",
      "  Downloading opensearch_py-1.1.0-py2.py3-none-any.whl (207 kB)\n",
      "     |████████████████████████████████| 207 kB 107.1 MB/s            \n",
      "\u001b[?25hRequirement already satisfied: pyarrow<6.1.0,>=2.0.0 in /home/ec2-user/anaconda3/envs/pytorch_latest_p36/lib/python3.6/site-packages (from awswrangler) (6.0.1)\n",
      "Collecting requests-aws4auth<2.0.0,>=1.1.1\n",
      "  Downloading requests_aws4auth-1.1.2-py2.py3-none-any.whl (24 kB)\n",
      "Requirement already satisfied: xlrd<3.0.0,>=2.0.1 in /home/ec2-user/anaconda3/envs/pytorch_latest_p36/lib/python3.6/site-packages (from awswrangler) (2.0.1)\n",
      "Collecting numpy<1.19.0,>=1.18.0\n",
      "  Downloading numpy-1.18.5-cp36-cp36m-manylinux1_x86_64.whl (20.1 MB)\n",
      "     |████████████████████████████████| 20.1 MB 106.2 MB/s            \n",
      "\u001b[?25hRequirement already satisfied: pandas<1.2.0,>=1.1.0 in /home/ec2-user/anaconda3/envs/pytorch_latest_p36/lib/python3.6/site-packages (from awswrangler) (1.1.5)\n",
      "Requirement already satisfied: xlwt<2.0.0,>=1.3.0 in /home/ec2-user/anaconda3/envs/pytorch_latest_p36/lib/python3.6/site-packages (from awswrangler) (1.3.0)\n",
      "Requirement already satisfied: jmespath<2.0.0,>=0.7.1 in /home/ec2-user/anaconda3/envs/pytorch_latest_p36/lib/python3.6/site-packages (from boto3<2.0.0,>=1.20.17->awswrangler) (0.10.0)\n",
      "Requirement already satisfied: s3transfer<0.6.0,>=0.5.0 in /home/ec2-user/anaconda3/envs/pytorch_latest_p36/lib/python3.6/site-packages (from boto3<2.0.0,>=1.20.17->awswrangler) (0.5.0)\n",
      "Requirement already satisfied: python-dateutil<3.0.0,>=2.1 in /home/ec2-user/anaconda3/envs/pytorch_latest_p36/lib/python3.6/site-packages (from botocore<2.0.0,>=1.23.17->awswrangler) (2.8.1)\n",
      "Requirement already satisfied: urllib3<1.27,>=1.25.4 in /home/ec2-user/anaconda3/envs/pytorch_latest_p36/lib/python3.6/site-packages (from botocore<2.0.0,>=1.23.17->awswrangler) (1.26.8)\n",
      "Requirement already satisfied: ply in /home/ec2-user/anaconda3/envs/pytorch_latest_p36/lib/python3.6/site-packages (from jsonpath-ng<2.0.0,>=1.5.3->awswrangler) (3.11)\n",
      "Requirement already satisfied: decorator in /home/ec2-user/anaconda3/envs/pytorch_latest_p36/lib/python3.6/site-packages (from jsonpath-ng<2.0.0,>=1.5.3->awswrangler) (4.4.2)\n",
      "Requirement already satisfied: six in /home/ec2-user/anaconda3/envs/pytorch_latest_p36/lib/python3.6/site-packages (from jsonpath-ng<2.0.0,>=1.5.3->awswrangler) (1.15.0)\n",
      "Requirement already satisfied: et-xmlfile in /home/ec2-user/anaconda3/envs/pytorch_latest_p36/lib/python3.6/site-packages (from openpyxl<3.1.0,>=3.0.0->awswrangler) (1.0.1)\n",
      "Requirement already satisfied: jdcal in /home/ec2-user/anaconda3/envs/pytorch_latest_p36/lib/python3.6/site-packages (from openpyxl<3.1.0,>=3.0.0->awswrangler) (1.4.1)\n",
      "Requirement already satisfied: certifi in /home/ec2-user/anaconda3/envs/pytorch_latest_p36/lib/python3.6/site-packages (from opensearch-py<2.0.0,>=1.0.0->awswrangler) (2021.5.30)\n",
      "Requirement already satisfied: pytz>=2017.2 in /home/ec2-user/anaconda3/envs/pytorch_latest_p36/lib/python3.6/site-packages (from pandas<1.2.0,>=1.1.0->awswrangler) (2021.1)\n",
      "Collecting scramp>=1.4.1\n",
      "  Downloading scramp-1.4.1-py3-none-any.whl (8.5 kB)\n",
      "Collecting python-utils>=2.3.0\n",
      "  Downloading python_utils-3.3.3-py2.py3-none-any.whl (23 kB)\n",
      "Requirement already satisfied: beautifulsoup4<5.0.0,>=4.7.0 in /home/ec2-user/anaconda3/envs/pytorch_latest_p36/lib/python3.6/site-packages (from redshift-connector<2.1.0,>=2.0.889->awswrangler) (4.9.3)\n",
      "Requirement already satisfied: requests<2.28.1,>=2.23.0 in /home/ec2-user/anaconda3/envs/pytorch_latest_p36/lib/python3.6/site-packages (from redshift-connector<2.1.0,>=2.0.889->awswrangler) (2.26.0)\n",
      "Collecting lxml>=4.6.5\n",
      "  Downloading lxml-4.9.1-cp36-cp36m-manylinux_2_17_x86_64.manylinux2014_x86_64.manylinux_2_24_x86_64.whl (6.4 MB)\n",
      "     |████████████████████████████████| 6.4 MB 109.3 MB/s            \n",
      "\u001b[?25hRequirement already satisfied: packaging in /home/ec2-user/anaconda3/envs/pytorch_latest_p36/lib/python3.6/site-packages (from redshift-connector<2.1.0,>=2.0.889->awswrangler) (21.3)\n",
      "Requirement already satisfied: soupsieve>1.2 in /home/ec2-user/anaconda3/envs/pytorch_latest_p36/lib/python3.6/site-packages (from beautifulsoup4<5.0.0,>=4.7.0->redshift-connector<2.1.0,>=2.0.889->awswrangler) (2.0.1)\n",
      "Requirement already satisfied: charset-normalizer~=2.0.0 in /home/ec2-user/anaconda3/envs/pytorch_latest_p36/lib/python3.6/site-packages (from requests<2.28.1,>=2.23.0->redshift-connector<2.1.0,>=2.0.889->awswrangler) (2.0.9)\n",
      "Requirement already satisfied: idna<4,>=2.5 in /home/ec2-user/anaconda3/envs/pytorch_latest_p36/lib/python3.6/site-packages (from requests<2.28.1,>=2.23.0->redshift-connector<2.1.0,>=2.0.889->awswrangler) (3.1)\n",
      "Requirement already satisfied: asn1crypto>=1.4.0 in /home/ec2-user/anaconda3/envs/pytorch_latest_p36/lib/python3.6/site-packages (from scramp>=1.4.1->pg8000<1.23.0,>=1.16.0->awswrangler) (1.4.0)\n",
      "Requirement already satisfied: pyparsing!=3.0.5,>=2.0.2 in /home/ec2-user/anaconda3/envs/pytorch_latest_p36/lib/python3.6/site-packages (from packaging->redshift-connector<2.1.0,>=2.0.889->awswrangler) (2.4.7)\n",
      "Installing collected packages: scramp, python-utils, numpy, lxml, requests-aws4auth, redshift-connector, pymysql, progressbar2, pg8000, opensearch-py, jsonpath-ng, awswrangler\n",
      "  Attempting uninstall: numpy\n",
      "    Found existing installation: numpy 1.19.2\n",
      "    Uninstalling numpy-1.19.2:\n",
      "      Successfully uninstalled numpy-1.19.2\n",
      "  Attempting uninstall: lxml\n",
      "    Found existing installation: lxml 4.6.4\n",
      "    Uninstalling lxml-4.6.4:\n",
      "      Successfully uninstalled lxml-4.6.4\n",
      "\u001b[31mERROR: pip's dependency resolver does not currently take into account all the packages that are installed. This behaviour is the source of the following dependency conflicts.\n",
      "tensorflow 2.6.2 requires numpy~=1.19.2, but you have numpy 1.18.5 which is incompatible.\u001b[0m\n",
      "Successfully installed awswrangler-2.14.0 jsonpath-ng-1.5.3 lxml-4.9.1 numpy-1.18.5 opensearch-py-1.1.0 pg8000-1.22.1 progressbar2-3.55.0 pymysql-1.0.2 python-utils-3.3.3 redshift-connector-2.0.908 requests-aws4auth-1.1.2 scramp-1.4.1\n"
     ]
    }
   ],
   "source": [
    "#demo_S1_S2.columns\n",
    "!pip install awswrangler"
   ]
  },
  {
   "cell_type": "code",
   "execution_count": null,
   "id": "9e172695",
   "metadata": {},
   "outputs": [],
   "source": [
    "import awswrangler as wr\n",
    "wr.s3.to_parquet(\n",
    "df=Results_Summary1,\n",
    "path='s3://dev-mde-mock/better_id',\n",
    "dataset=True,\n",
    "database='demo_db',\n",
    "table='sankey_surv_demo_SC_2020',\n",
    "mode='overwrite',\n",
    "description='sankey surv_demo_SC_2020'\n",
    ")"
   ]
  },
  {
   "cell_type": "code",
   "execution_count": null,
   "id": "0f738851",
   "metadata": {},
   "outputs": [],
   "source": [
    "Results_Summary1.product_code.value_counts()"
   ]
  },
  {
   "cell_type": "code",
   "execution_count": null,
   "id": "c32f4611",
   "metadata": {},
   "outputs": [],
   "source": [
    "#normalized_submission_number, report_number (FEI_Number), normalized_brand_name, normalized_company_name, product_code, normalized_catalog_number, mdr_text"
   ]
  },
  {
   "cell_type": "code",
   "execution_count": null,
   "id": "c3565956",
   "metadata": {},
   "outputs": [],
   "source": [
    "#shallow_mlp_model.save('mlp_model_updated.h5')"
   ]
  },
  {
   "cell_type": "code",
   "execution_count": null,
   "id": "66f43586",
   "metadata": {},
   "outputs": [],
   "source": [
    "#from tensorflow import keras\n",
    "#shallow_mlp_model_read = keras.models.load_model('shallow_mlp_model_updated.h5')"
   ]
  }
 ],
 "metadata": {
  "kernelspec": {
   "display_name": "conda_pytorch_latest_p36",
   "language": "python",
   "name": "conda_pytorch_latest_p36"
  },
  "language_info": {
   "codemirror_mode": {
    "name": "ipython",
    "version": 3
   },
   "file_extension": ".py",
   "mimetype": "text/x-python",
   "name": "python",
   "nbconvert_exporter": "python",
   "pygments_lexer": "ipython3",
   "version": "3.6.13"
  }
 },
 "nbformat": 4,
 "nbformat_minor": 5
}
